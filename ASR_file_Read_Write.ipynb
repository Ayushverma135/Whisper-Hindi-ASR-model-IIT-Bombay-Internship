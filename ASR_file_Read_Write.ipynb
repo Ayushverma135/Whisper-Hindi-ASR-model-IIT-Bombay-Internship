{
  "nbformat": 4,
  "nbformat_minor": 0,
  "metadata": {
    "colab": {
      "provenance": [],
      "gpuType": "T4"
    },
    "kernelspec": {
      "name": "python3",
      "display_name": "Python 3"
    },
    "language_info": {
      "name": "python"
    },
    "accelerator": "GPU"
  },
  "cells": [
    {
      "cell_type": "code",
      "execution_count": 1,
      "metadata": {
        "colab": {
          "base_uri": "https://localhost:8080/"
        },
        "id": "68AsBc90UKB_",
        "outputId": "6b98f786-8331-4cb1-9852-bc29cc38b85f"
      },
      "outputs": [
        {
          "output_type": "stream",
          "name": "stdout",
          "text": [
            "Mon Apr 22 05:38:35 2024       \n",
            "+---------------------------------------------------------------------------------------+\n",
            "| NVIDIA-SMI 535.104.05             Driver Version: 535.104.05   CUDA Version: 12.2     |\n",
            "|-----------------------------------------+----------------------+----------------------+\n",
            "| GPU  Name                 Persistence-M | Bus-Id        Disp.A | Volatile Uncorr. ECC |\n",
            "| Fan  Temp   Perf          Pwr:Usage/Cap |         Memory-Usage | GPU-Util  Compute M. |\n",
            "|                                         |                      |               MIG M. |\n",
            "|=========================================+======================+======================|\n",
            "|   0  Tesla T4                       Off | 00000000:00:04.0 Off |                    0 |\n",
            "| N/A   37C    P8               9W /  70W |      0MiB / 15360MiB |      0%      Default |\n",
            "|                                         |                      |                  N/A |\n",
            "+-----------------------------------------+----------------------+----------------------+\n",
            "                                                                                         \n",
            "+---------------------------------------------------------------------------------------+\n",
            "| Processes:                                                                            |\n",
            "|  GPU   GI   CI        PID   Type   Process name                            GPU Memory |\n",
            "|        ID   ID                                                             Usage      |\n",
            "|=======================================================================================|\n",
            "|  No running processes found                                                           |\n",
            "+---------------------------------------------------------------------------------------+\n"
          ]
        }
      ],
      "source": [
        "!nvidia-smi"
      ]
    },
    {
      "cell_type": "code",
      "source": [
        "! pip install git+https://github.com/openai/whisper.git -q"
      ],
      "metadata": {
        "colab": {
          "base_uri": "https://localhost:8080/"
        },
        "id": "eHv1OTPzVNcF",
        "outputId": "45eb61a1-c0fe-4fc5-debb-7a84323cbffd"
      },
      "execution_count": 3,
      "outputs": [
        {
          "output_type": "stream",
          "name": "stdout",
          "text": [
            "  Installing build dependencies ... \u001b[?25l\u001b[?25hdone\n",
            "  Getting requirements to build wheel ... \u001b[?25l\u001b[?25hdone\n",
            "  Preparing metadata (pyproject.toml) ... \u001b[?25l\u001b[?25hdone\n",
            "\u001b[2K     \u001b[90m━━━━━━━━━━━━━━━━━━━━━━━━━━━━━━━━━━━━━━━━\u001b[0m \u001b[32m1.8/1.8 MB\u001b[0m \u001b[31m9.6 MB/s\u001b[0m eta \u001b[36m0:00:00\u001b[0m\n",
            "\u001b[?25h  Building wheel for openai-whisper (pyproject.toml) ... \u001b[?25l\u001b[?25hdone\n"
          ]
        }
      ]
    },
    {
      "cell_type": "code",
      "source": [
        "import whisper\n",
        "\n",
        "model = whisper.load_model(\"large\") #769M Parameter"
      ],
      "metadata": {
        "colab": {
          "base_uri": "https://localhost:8080/"
        },
        "id": "tm1wYmFGVwk1",
        "outputId": "4b5b8e7e-5d06-47b1-f4c4-4d6b484ec083"
      },
      "execution_count": 4,
      "outputs": [
        {
          "output_type": "stream",
          "name": "stderr",
          "text": [
            "100%|██████████████████████████████████████| 2.88G/2.88G [00:25<00:00, 121MiB/s]\n"
          ]
        }
      ]
    },
    {
      "cell_type": "code",
      "source": [
        "!wget -O audio.mp3 http://www.moviesoundclips.net/movies1/batmanbegins/bats.mp3"
      ],
      "metadata": {
        "colab": {
          "base_uri": "https://localhost:8080/"
        },
        "id": "tjgwriNyWEDz",
        "outputId": "b36524f4-20f2-4800-f58a-9e7005cab7a1"
      },
      "execution_count": null,
      "outputs": [
        {
          "output_type": "stream",
          "name": "stdout",
          "text": [
            "--2024-04-20 17:17:28--  http://www.moviesoundclips.net/movies1/batmanbegins/bats.mp3\n",
            "Resolving www.moviesoundclips.net (www.moviesoundclips.net)... 198.54.115.219\n",
            "Connecting to www.moviesoundclips.net (www.moviesoundclips.net)|198.54.115.219|:80... connected.\n",
            "HTTP request sent, awaiting response... 200 OK\n",
            "Length: 52128 (51K) [audio/mpeg]\n",
            "Saving to: ‘audio.mp3’\n",
            "\n",
            "\raudio.mp3             0%[                    ]       0  --.-KB/s               \raudio.mp3           100%[===================>]  50.91K  --.-KB/s    in 0.04s   \n",
            "\n",
            "2024-04-20 17:17:28 (1.24 MB/s) - ‘audio.mp3’ saved [52128/52128]\n",
            "\n"
          ]
        }
      ]
    },
    {
      "cell_type": "code",
      "source": [
        "from IPython.display import Audio, display\n",
        "\n",
        "display(Audio('/content/drive/MyDrive/Audio/01-00004-02.mp3', autoplay=True))"
      ],
      "metadata": {
        "colab": {
          "base_uri": "https://localhost:8080/",
          "height": 75
        },
        "id": "TnwjZEfbWF29",
        "outputId": "dec5ede1-b4cb-4405-8a8e-4d2ae9f43e3a"
      },
      "execution_count": 7,
      "outputs": [
        {
          "output_type": "display_data",
          "data": {
            "text/plain": [
              "<IPython.lib.display.Audio object>"
            ],
            "text/html": [
              "\n",
              "                <audio  controls=\"controls\" autoplay=\"autoplay\">\n",
              "                    <source src=\"data:audio/mpeg;base64,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\" type=\"audio/mpeg\" />\n",
              "                    Your browser does not support the audio element.\n",
              "                </audio>\n",
              "              "
            ]
          },
          "metadata": {}
        }
      ]
    },
    {
      "cell_type": "code",
      "source": [
        "from google.colab import drive\n",
        "drive.mount('/content/drive')"
      ],
      "metadata": {
        "id": "epHKrB6rUxao",
        "outputId": "8bdf1523-c229-402b-eb35-a1f9d0f5d0e4",
        "colab": {
          "base_uri": "https://localhost:8080/"
        }
      },
      "execution_count": 6,
      "outputs": [
        {
          "output_type": "stream",
          "name": "stdout",
          "text": [
            "Mounted at /content/drive\n"
          ]
        }
      ]
    },
    {
      "cell_type": "code",
      "source": [
        "import glob\n",
        "directory = '/content/drive/MyDrive/Audio/'\n",
        "\n",
        "# Define the pattern to search for MP3 files\n",
        "pattern = '*.mp3'\n",
        "\n",
        "# Use glob to find MP3 files\n",
        "mp3_files = glob.glob(directory + '**/' + pattern, recursive=True)\n",
        "\n",
        "# Print the paths of MP3 files\n",
        "for mp3_file in mp3_files:\n",
        "    result = model.transcribe(mp3_file,language='hi')\n",
        "    filename = mp3_file.split('/')[-1].split('.')[0]\n",
        "    print(filename,result[\"text\"])"
      ],
      "metadata": {
        "colab": {
          "base_uri": "https://localhost:8080/",
          "height": 373
        },
        "id": "gc-mcAPRk7BX",
        "outputId": "fce23273-c33b-4e9d-aeb0-3ea483b4d171"
      },
      "execution_count": 13,
      "outputs": [
        {
          "output_type": "stream",
          "name": "stdout",
          "text": [
            "02-15237-01  पर पर्खण परमुख राणी देवी ने उठाए कई सवाल पर पर्खण परमुख राणी देवी ने बाल विकास परिज़ना कारियाले में भरस्टाचार पूरी तरा व्याप्त है\n"
          ]
        },
        {
          "output_type": "error",
          "ename": "KeyboardInterrupt",
          "evalue": "",
          "traceback": [
            "\u001b[0;31m---------------------------------------------------------------------------\u001b[0m",
            "\u001b[0;31mKeyboardInterrupt\u001b[0m                         Traceback (most recent call last)",
            "\u001b[0;32m<ipython-input-13-0eec45f95733>\u001b[0m in \u001b[0;36m<cell line: 11>\u001b[0;34m()\u001b[0m\n\u001b[1;32m     10\u001b[0m \u001b[0;31m# Print the paths of MP3 files\u001b[0m\u001b[0;34m\u001b[0m\u001b[0;34m\u001b[0m\u001b[0m\n\u001b[1;32m     11\u001b[0m \u001b[0;32mfor\u001b[0m \u001b[0mmp3_file\u001b[0m \u001b[0;32min\u001b[0m \u001b[0mmp3_files\u001b[0m\u001b[0;34m:\u001b[0m\u001b[0;34m\u001b[0m\u001b[0;34m\u001b[0m\u001b[0m\n\u001b[0;32m---> 12\u001b[0;31m     \u001b[0mresult\u001b[0m \u001b[0;34m=\u001b[0m \u001b[0mmodel\u001b[0m\u001b[0;34m.\u001b[0m\u001b[0mtranscribe\u001b[0m\u001b[0;34m(\u001b[0m\u001b[0mmp3_file\u001b[0m\u001b[0;34m,\u001b[0m\u001b[0mlanguage\u001b[0m\u001b[0;34m=\u001b[0m\u001b[0;34m'hi'\u001b[0m\u001b[0;34m)\u001b[0m\u001b[0;34m\u001b[0m\u001b[0;34m\u001b[0m\u001b[0m\n\u001b[0m\u001b[1;32m     13\u001b[0m     \u001b[0mfilename\u001b[0m \u001b[0;34m=\u001b[0m \u001b[0mmp3_file\u001b[0m\u001b[0;34m.\u001b[0m\u001b[0msplit\u001b[0m\u001b[0;34m(\u001b[0m\u001b[0;34m'/'\u001b[0m\u001b[0;34m)\u001b[0m\u001b[0;34m[\u001b[0m\u001b[0;34m-\u001b[0m\u001b[0;36m1\u001b[0m\u001b[0;34m]\u001b[0m\u001b[0;34m.\u001b[0m\u001b[0msplit\u001b[0m\u001b[0;34m(\u001b[0m\u001b[0;34m'.'\u001b[0m\u001b[0;34m)\u001b[0m\u001b[0;34m[\u001b[0m\u001b[0;36m0\u001b[0m\u001b[0;34m]\u001b[0m\u001b[0;34m\u001b[0m\u001b[0;34m\u001b[0m\u001b[0m\n\u001b[1;32m     14\u001b[0m     \u001b[0mprint\u001b[0m\u001b[0;34m(\u001b[0m\u001b[0mfilename\u001b[0m\u001b[0;34m,\u001b[0m\u001b[0mresult\u001b[0m\u001b[0;34m[\u001b[0m\u001b[0;34m\"text\"\u001b[0m\u001b[0;34m]\u001b[0m\u001b[0;34m)\u001b[0m\u001b[0;34m\u001b[0m\u001b[0;34m\u001b[0m\u001b[0m\n",
            "\u001b[0;32m/usr/local/lib/python3.10/dist-packages/whisper/transcribe.py\u001b[0m in \u001b[0;36mtranscribe\u001b[0;34m(model, audio, verbose, temperature, compression_ratio_threshold, logprob_threshold, no_speech_threshold, condition_on_previous_text, initial_prompt, word_timestamps, prepend_punctuations, append_punctuations, clip_timestamps, hallucination_silence_threshold, **decode_options)\u001b[0m\n\u001b[1;32m    277\u001b[0m \u001b[0;34m\u001b[0m\u001b[0m\n\u001b[1;32m    278\u001b[0m             \u001b[0mdecode_options\u001b[0m\u001b[0;34m[\u001b[0m\u001b[0;34m\"prompt\"\u001b[0m\u001b[0;34m]\u001b[0m \u001b[0;34m=\u001b[0m \u001b[0mall_tokens\u001b[0m\u001b[0;34m[\u001b[0m\u001b[0mprompt_reset_since\u001b[0m\u001b[0;34m:\u001b[0m\u001b[0;34m]\u001b[0m\u001b[0;34m\u001b[0m\u001b[0;34m\u001b[0m\u001b[0m\n\u001b[0;32m--> 279\u001b[0;31m             \u001b[0mresult\u001b[0m\u001b[0;34m:\u001b[0m \u001b[0mDecodingResult\u001b[0m \u001b[0;34m=\u001b[0m \u001b[0mdecode_with_fallback\u001b[0m\u001b[0;34m(\u001b[0m\u001b[0mmel_segment\u001b[0m\u001b[0;34m)\u001b[0m\u001b[0;34m\u001b[0m\u001b[0;34m\u001b[0m\u001b[0m\n\u001b[0m\u001b[1;32m    280\u001b[0m             \u001b[0mtokens\u001b[0m \u001b[0;34m=\u001b[0m \u001b[0mtorch\u001b[0m\u001b[0;34m.\u001b[0m\u001b[0mtensor\u001b[0m\u001b[0;34m(\u001b[0m\u001b[0mresult\u001b[0m\u001b[0;34m.\u001b[0m\u001b[0mtokens\u001b[0m\u001b[0;34m)\u001b[0m\u001b[0;34m\u001b[0m\u001b[0;34m\u001b[0m\u001b[0m\n\u001b[1;32m    281\u001b[0m \u001b[0;34m\u001b[0m\u001b[0m\n",
            "\u001b[0;32m/usr/local/lib/python3.10/dist-packages/whisper/transcribe.py\u001b[0m in \u001b[0;36mdecode_with_fallback\u001b[0;34m(segment)\u001b[0m\n\u001b[1;32m    193\u001b[0m \u001b[0;34m\u001b[0m\u001b[0m\n\u001b[1;32m    194\u001b[0m             \u001b[0moptions\u001b[0m \u001b[0;34m=\u001b[0m \u001b[0mDecodingOptions\u001b[0m\u001b[0;34m(\u001b[0m\u001b[0;34m**\u001b[0m\u001b[0mkwargs\u001b[0m\u001b[0;34m,\u001b[0m \u001b[0mtemperature\u001b[0m\u001b[0;34m=\u001b[0m\u001b[0mt\u001b[0m\u001b[0;34m)\u001b[0m\u001b[0;34m\u001b[0m\u001b[0;34m\u001b[0m\u001b[0m\n\u001b[0;32m--> 195\u001b[0;31m             \u001b[0mdecode_result\u001b[0m \u001b[0;34m=\u001b[0m \u001b[0mmodel\u001b[0m\u001b[0;34m.\u001b[0m\u001b[0mdecode\u001b[0m\u001b[0;34m(\u001b[0m\u001b[0msegment\u001b[0m\u001b[0;34m,\u001b[0m \u001b[0moptions\u001b[0m\u001b[0;34m)\u001b[0m\u001b[0;34m\u001b[0m\u001b[0;34m\u001b[0m\u001b[0m\n\u001b[0m\u001b[1;32m    196\u001b[0m \u001b[0;34m\u001b[0m\u001b[0m\n\u001b[1;32m    197\u001b[0m             \u001b[0mneeds_fallback\u001b[0m \u001b[0;34m=\u001b[0m \u001b[0;32mFalse\u001b[0m\u001b[0;34m\u001b[0m\u001b[0;34m\u001b[0m\u001b[0m\n",
            "\u001b[0;32m/usr/local/lib/python3.10/dist-packages/torch/utils/_contextlib.py\u001b[0m in \u001b[0;36mdecorate_context\u001b[0;34m(*args, **kwargs)\u001b[0m\n\u001b[1;32m    113\u001b[0m     \u001b[0;32mdef\u001b[0m \u001b[0mdecorate_context\u001b[0m\u001b[0;34m(\u001b[0m\u001b[0;34m*\u001b[0m\u001b[0margs\u001b[0m\u001b[0;34m,\u001b[0m \u001b[0;34m**\u001b[0m\u001b[0mkwargs\u001b[0m\u001b[0;34m)\u001b[0m\u001b[0;34m:\u001b[0m\u001b[0;34m\u001b[0m\u001b[0;34m\u001b[0m\u001b[0m\n\u001b[1;32m    114\u001b[0m         \u001b[0;32mwith\u001b[0m \u001b[0mctx_factory\u001b[0m\u001b[0;34m(\u001b[0m\u001b[0;34m)\u001b[0m\u001b[0;34m:\u001b[0m\u001b[0;34m\u001b[0m\u001b[0;34m\u001b[0m\u001b[0m\n\u001b[0;32m--> 115\u001b[0;31m             \u001b[0;32mreturn\u001b[0m \u001b[0mfunc\u001b[0m\u001b[0;34m(\u001b[0m\u001b[0;34m*\u001b[0m\u001b[0margs\u001b[0m\u001b[0;34m,\u001b[0m \u001b[0;34m**\u001b[0m\u001b[0mkwargs\u001b[0m\u001b[0;34m)\u001b[0m\u001b[0;34m\u001b[0m\u001b[0;34m\u001b[0m\u001b[0m\n\u001b[0m\u001b[1;32m    116\u001b[0m \u001b[0;34m\u001b[0m\u001b[0m\n\u001b[1;32m    117\u001b[0m     \u001b[0;32mreturn\u001b[0m \u001b[0mdecorate_context\u001b[0m\u001b[0;34m\u001b[0m\u001b[0;34m\u001b[0m\u001b[0m\n",
            "\u001b[0;32m/usr/local/lib/python3.10/dist-packages/whisper/decoding.py\u001b[0m in \u001b[0;36mdecode\u001b[0;34m(model, mel, options, **kwargs)\u001b[0m\n\u001b[1;32m    822\u001b[0m         \u001b[0moptions\u001b[0m \u001b[0;34m=\u001b[0m \u001b[0mreplace\u001b[0m\u001b[0;34m(\u001b[0m\u001b[0moptions\u001b[0m\u001b[0;34m,\u001b[0m \u001b[0;34m**\u001b[0m\u001b[0mkwargs\u001b[0m\u001b[0;34m)\u001b[0m\u001b[0;34m\u001b[0m\u001b[0;34m\u001b[0m\u001b[0m\n\u001b[1;32m    823\u001b[0m \u001b[0;34m\u001b[0m\u001b[0m\n\u001b[0;32m--> 824\u001b[0;31m     \u001b[0mresult\u001b[0m \u001b[0;34m=\u001b[0m \u001b[0mDecodingTask\u001b[0m\u001b[0;34m(\u001b[0m\u001b[0mmodel\u001b[0m\u001b[0;34m,\u001b[0m \u001b[0moptions\u001b[0m\u001b[0;34m)\u001b[0m\u001b[0;34m.\u001b[0m\u001b[0mrun\u001b[0m\u001b[0;34m(\u001b[0m\u001b[0mmel\u001b[0m\u001b[0;34m)\u001b[0m\u001b[0;34m\u001b[0m\u001b[0;34m\u001b[0m\u001b[0m\n\u001b[0m\u001b[1;32m    825\u001b[0m \u001b[0;34m\u001b[0m\u001b[0m\n\u001b[1;32m    826\u001b[0m     \u001b[0;32mreturn\u001b[0m \u001b[0mresult\u001b[0m\u001b[0;34m[\u001b[0m\u001b[0;36m0\u001b[0m\u001b[0;34m]\u001b[0m \u001b[0;32mif\u001b[0m \u001b[0msingle\u001b[0m \u001b[0;32melse\u001b[0m \u001b[0mresult\u001b[0m\u001b[0;34m\u001b[0m\u001b[0;34m\u001b[0m\u001b[0m\n",
            "\u001b[0;32m/usr/local/lib/python3.10/dist-packages/torch/utils/_contextlib.py\u001b[0m in \u001b[0;36mdecorate_context\u001b[0;34m(*args, **kwargs)\u001b[0m\n\u001b[1;32m    113\u001b[0m     \u001b[0;32mdef\u001b[0m \u001b[0mdecorate_context\u001b[0m\u001b[0;34m(\u001b[0m\u001b[0;34m*\u001b[0m\u001b[0margs\u001b[0m\u001b[0;34m,\u001b[0m \u001b[0;34m**\u001b[0m\u001b[0mkwargs\u001b[0m\u001b[0;34m)\u001b[0m\u001b[0;34m:\u001b[0m\u001b[0;34m\u001b[0m\u001b[0;34m\u001b[0m\u001b[0m\n\u001b[1;32m    114\u001b[0m         \u001b[0;32mwith\u001b[0m \u001b[0mctx_factory\u001b[0m\u001b[0;34m(\u001b[0m\u001b[0;34m)\u001b[0m\u001b[0;34m:\u001b[0m\u001b[0;34m\u001b[0m\u001b[0;34m\u001b[0m\u001b[0m\n\u001b[0;32m--> 115\u001b[0;31m             \u001b[0;32mreturn\u001b[0m \u001b[0mfunc\u001b[0m\u001b[0;34m(\u001b[0m\u001b[0;34m*\u001b[0m\u001b[0margs\u001b[0m\u001b[0;34m,\u001b[0m \u001b[0;34m**\u001b[0m\u001b[0mkwargs\u001b[0m\u001b[0;34m)\u001b[0m\u001b[0;34m\u001b[0m\u001b[0;34m\u001b[0m\u001b[0m\n\u001b[0m\u001b[1;32m    116\u001b[0m \u001b[0;34m\u001b[0m\u001b[0m\n\u001b[1;32m    117\u001b[0m     \u001b[0;32mreturn\u001b[0m \u001b[0mdecorate_context\u001b[0m\u001b[0;34m\u001b[0m\u001b[0;34m\u001b[0m\u001b[0m\n",
            "\u001b[0;32m/usr/local/lib/python3.10/dist-packages/whisper/decoding.py\u001b[0m in \u001b[0;36mrun\u001b[0;34m(self, mel)\u001b[0m\n\u001b[1;32m    735\u001b[0m \u001b[0;34m\u001b[0m\u001b[0m\n\u001b[1;32m    736\u001b[0m         \u001b[0;31m# call the main sampling loop\u001b[0m\u001b[0;34m\u001b[0m\u001b[0;34m\u001b[0m\u001b[0m\n\u001b[0;32m--> 737\u001b[0;31m         \u001b[0mtokens\u001b[0m\u001b[0;34m,\u001b[0m \u001b[0msum_logprobs\u001b[0m\u001b[0;34m,\u001b[0m \u001b[0mno_speech_probs\u001b[0m \u001b[0;34m=\u001b[0m \u001b[0mself\u001b[0m\u001b[0;34m.\u001b[0m\u001b[0m_main_loop\u001b[0m\u001b[0;34m(\u001b[0m\u001b[0maudio_features\u001b[0m\u001b[0;34m,\u001b[0m \u001b[0mtokens\u001b[0m\u001b[0;34m)\u001b[0m\u001b[0;34m\u001b[0m\u001b[0;34m\u001b[0m\u001b[0m\n\u001b[0m\u001b[1;32m    738\u001b[0m \u001b[0;34m\u001b[0m\u001b[0m\n\u001b[1;32m    739\u001b[0m         \u001b[0;31m# reshape the tensors to have (n_audio, n_group) as the first two dimensions\u001b[0m\u001b[0;34m\u001b[0m\u001b[0;34m\u001b[0m\u001b[0m\n",
            "\u001b[0;32m/usr/local/lib/python3.10/dist-packages/whisper/decoding.py\u001b[0m in \u001b[0;36m_main_loop\u001b[0;34m(self, audio_features, tokens)\u001b[0m\n\u001b[1;32m    685\u001b[0m         \u001b[0;32mtry\u001b[0m\u001b[0;34m:\u001b[0m\u001b[0;34m\u001b[0m\u001b[0;34m\u001b[0m\u001b[0m\n\u001b[1;32m    686\u001b[0m             \u001b[0;32mfor\u001b[0m \u001b[0mi\u001b[0m \u001b[0;32min\u001b[0m \u001b[0mrange\u001b[0m\u001b[0;34m(\u001b[0m\u001b[0mself\u001b[0m\u001b[0;34m.\u001b[0m\u001b[0msample_len\u001b[0m\u001b[0;34m)\u001b[0m\u001b[0;34m:\u001b[0m\u001b[0;34m\u001b[0m\u001b[0;34m\u001b[0m\u001b[0m\n\u001b[0;32m--> 687\u001b[0;31m                 \u001b[0mlogits\u001b[0m \u001b[0;34m=\u001b[0m \u001b[0mself\u001b[0m\u001b[0;34m.\u001b[0m\u001b[0minference\u001b[0m\u001b[0;34m.\u001b[0m\u001b[0mlogits\u001b[0m\u001b[0;34m(\u001b[0m\u001b[0mtokens\u001b[0m\u001b[0;34m,\u001b[0m \u001b[0maudio_features\u001b[0m\u001b[0;34m)\u001b[0m\u001b[0;34m\u001b[0m\u001b[0;34m\u001b[0m\u001b[0m\n\u001b[0m\u001b[1;32m    688\u001b[0m \u001b[0;34m\u001b[0m\u001b[0m\n\u001b[1;32m    689\u001b[0m                 if (\n",
            "\u001b[0;32m/usr/local/lib/python3.10/dist-packages/whisper/decoding.py\u001b[0m in \u001b[0;36mlogits\u001b[0;34m(self, tokens, audio_features)\u001b[0m\n\u001b[1;32m    161\u001b[0m             \u001b[0mtokens\u001b[0m \u001b[0;34m=\u001b[0m \u001b[0mtokens\u001b[0m\u001b[0;34m[\u001b[0m\u001b[0;34m:\u001b[0m\u001b[0;34m,\u001b[0m \u001b[0;34m-\u001b[0m\u001b[0;36m1\u001b[0m\u001b[0;34m:\u001b[0m\u001b[0;34m]\u001b[0m\u001b[0;34m\u001b[0m\u001b[0;34m\u001b[0m\u001b[0m\n\u001b[1;32m    162\u001b[0m \u001b[0;34m\u001b[0m\u001b[0m\n\u001b[0;32m--> 163\u001b[0;31m         \u001b[0;32mreturn\u001b[0m \u001b[0mself\u001b[0m\u001b[0;34m.\u001b[0m\u001b[0mmodel\u001b[0m\u001b[0;34m.\u001b[0m\u001b[0mdecoder\u001b[0m\u001b[0;34m(\u001b[0m\u001b[0mtokens\u001b[0m\u001b[0;34m,\u001b[0m \u001b[0maudio_features\u001b[0m\u001b[0;34m,\u001b[0m \u001b[0mkv_cache\u001b[0m\u001b[0;34m=\u001b[0m\u001b[0mself\u001b[0m\u001b[0;34m.\u001b[0m\u001b[0mkv_cache\u001b[0m\u001b[0;34m)\u001b[0m\u001b[0;34m\u001b[0m\u001b[0;34m\u001b[0m\u001b[0m\n\u001b[0m\u001b[1;32m    164\u001b[0m \u001b[0;34m\u001b[0m\u001b[0m\n\u001b[1;32m    165\u001b[0m     \u001b[0;32mdef\u001b[0m \u001b[0mcleanup_caching\u001b[0m\u001b[0;34m(\u001b[0m\u001b[0mself\u001b[0m\u001b[0;34m)\u001b[0m\u001b[0;34m:\u001b[0m\u001b[0;34m\u001b[0m\u001b[0;34m\u001b[0m\u001b[0m\n",
            "\u001b[0;32m/usr/local/lib/python3.10/dist-packages/torch/nn/modules/module.py\u001b[0m in \u001b[0;36m_wrapped_call_impl\u001b[0;34m(self, *args, **kwargs)\u001b[0m\n\u001b[1;32m   1509\u001b[0m             \u001b[0;32mreturn\u001b[0m \u001b[0mself\u001b[0m\u001b[0;34m.\u001b[0m\u001b[0m_compiled_call_impl\u001b[0m\u001b[0;34m(\u001b[0m\u001b[0;34m*\u001b[0m\u001b[0margs\u001b[0m\u001b[0;34m,\u001b[0m \u001b[0;34m**\u001b[0m\u001b[0mkwargs\u001b[0m\u001b[0;34m)\u001b[0m  \u001b[0;31m# type: ignore[misc]\u001b[0m\u001b[0;34m\u001b[0m\u001b[0;34m\u001b[0m\u001b[0m\n\u001b[1;32m   1510\u001b[0m         \u001b[0;32melse\u001b[0m\u001b[0;34m:\u001b[0m\u001b[0;34m\u001b[0m\u001b[0;34m\u001b[0m\u001b[0m\n\u001b[0;32m-> 1511\u001b[0;31m             \u001b[0;32mreturn\u001b[0m \u001b[0mself\u001b[0m\u001b[0;34m.\u001b[0m\u001b[0m_call_impl\u001b[0m\u001b[0;34m(\u001b[0m\u001b[0;34m*\u001b[0m\u001b[0margs\u001b[0m\u001b[0;34m,\u001b[0m \u001b[0;34m**\u001b[0m\u001b[0mkwargs\u001b[0m\u001b[0;34m)\u001b[0m\u001b[0;34m\u001b[0m\u001b[0;34m\u001b[0m\u001b[0m\n\u001b[0m\u001b[1;32m   1512\u001b[0m \u001b[0;34m\u001b[0m\u001b[0m\n\u001b[1;32m   1513\u001b[0m     \u001b[0;32mdef\u001b[0m \u001b[0m_call_impl\u001b[0m\u001b[0;34m(\u001b[0m\u001b[0mself\u001b[0m\u001b[0;34m,\u001b[0m \u001b[0;34m*\u001b[0m\u001b[0margs\u001b[0m\u001b[0;34m,\u001b[0m \u001b[0;34m**\u001b[0m\u001b[0mkwargs\u001b[0m\u001b[0;34m)\u001b[0m\u001b[0;34m:\u001b[0m\u001b[0;34m\u001b[0m\u001b[0;34m\u001b[0m\u001b[0m\n",
            "\u001b[0;32m/usr/local/lib/python3.10/dist-packages/torch/nn/modules/module.py\u001b[0m in \u001b[0;36m_call_impl\u001b[0;34m(self, *args, **kwargs)\u001b[0m\n\u001b[1;32m   1518\u001b[0m                 \u001b[0;32mor\u001b[0m \u001b[0m_global_backward_pre_hooks\u001b[0m \u001b[0;32mor\u001b[0m \u001b[0m_global_backward_hooks\u001b[0m\u001b[0;34m\u001b[0m\u001b[0;34m\u001b[0m\u001b[0m\n\u001b[1;32m   1519\u001b[0m                 or _global_forward_hooks or _global_forward_pre_hooks):\n\u001b[0;32m-> 1520\u001b[0;31m             \u001b[0;32mreturn\u001b[0m \u001b[0mforward_call\u001b[0m\u001b[0;34m(\u001b[0m\u001b[0;34m*\u001b[0m\u001b[0margs\u001b[0m\u001b[0;34m,\u001b[0m \u001b[0;34m**\u001b[0m\u001b[0mkwargs\u001b[0m\u001b[0;34m)\u001b[0m\u001b[0;34m\u001b[0m\u001b[0;34m\u001b[0m\u001b[0m\n\u001b[0m\u001b[1;32m   1521\u001b[0m \u001b[0;34m\u001b[0m\u001b[0m\n\u001b[1;32m   1522\u001b[0m         \u001b[0;32mtry\u001b[0m\u001b[0;34m:\u001b[0m\u001b[0;34m\u001b[0m\u001b[0;34m\u001b[0m\u001b[0m\n",
            "\u001b[0;32m/usr/local/lib/python3.10/dist-packages/whisper/model.py\u001b[0m in \u001b[0;36mforward\u001b[0;34m(self, x, xa, kv_cache)\u001b[0m\n\u001b[1;32m    209\u001b[0m \u001b[0;34m\u001b[0m\u001b[0m\n\u001b[1;32m    210\u001b[0m         \u001b[0;32mfor\u001b[0m \u001b[0mblock\u001b[0m \u001b[0;32min\u001b[0m \u001b[0mself\u001b[0m\u001b[0;34m.\u001b[0m\u001b[0mblocks\u001b[0m\u001b[0;34m:\u001b[0m\u001b[0;34m\u001b[0m\u001b[0;34m\u001b[0m\u001b[0m\n\u001b[0;32m--> 211\u001b[0;31m             \u001b[0mx\u001b[0m \u001b[0;34m=\u001b[0m \u001b[0mblock\u001b[0m\u001b[0;34m(\u001b[0m\u001b[0mx\u001b[0m\u001b[0;34m,\u001b[0m \u001b[0mxa\u001b[0m\u001b[0;34m,\u001b[0m \u001b[0mmask\u001b[0m\u001b[0;34m=\u001b[0m\u001b[0mself\u001b[0m\u001b[0;34m.\u001b[0m\u001b[0mmask\u001b[0m\u001b[0;34m,\u001b[0m \u001b[0mkv_cache\u001b[0m\u001b[0;34m=\u001b[0m\u001b[0mkv_cache\u001b[0m\u001b[0;34m)\u001b[0m\u001b[0;34m\u001b[0m\u001b[0;34m\u001b[0m\u001b[0m\n\u001b[0m\u001b[1;32m    212\u001b[0m \u001b[0;34m\u001b[0m\u001b[0m\n\u001b[1;32m    213\u001b[0m         \u001b[0mx\u001b[0m \u001b[0;34m=\u001b[0m \u001b[0mself\u001b[0m\u001b[0;34m.\u001b[0m\u001b[0mln\u001b[0m\u001b[0;34m(\u001b[0m\u001b[0mx\u001b[0m\u001b[0;34m)\u001b[0m\u001b[0;34m\u001b[0m\u001b[0;34m\u001b[0m\u001b[0m\n",
            "\u001b[0;32m/usr/local/lib/python3.10/dist-packages/torch/nn/modules/module.py\u001b[0m in \u001b[0;36m_wrapped_call_impl\u001b[0;34m(self, *args, **kwargs)\u001b[0m\n\u001b[1;32m   1509\u001b[0m             \u001b[0;32mreturn\u001b[0m \u001b[0mself\u001b[0m\u001b[0;34m.\u001b[0m\u001b[0m_compiled_call_impl\u001b[0m\u001b[0;34m(\u001b[0m\u001b[0;34m*\u001b[0m\u001b[0margs\u001b[0m\u001b[0;34m,\u001b[0m \u001b[0;34m**\u001b[0m\u001b[0mkwargs\u001b[0m\u001b[0;34m)\u001b[0m  \u001b[0;31m# type: ignore[misc]\u001b[0m\u001b[0;34m\u001b[0m\u001b[0;34m\u001b[0m\u001b[0m\n\u001b[1;32m   1510\u001b[0m         \u001b[0;32melse\u001b[0m\u001b[0;34m:\u001b[0m\u001b[0;34m\u001b[0m\u001b[0;34m\u001b[0m\u001b[0m\n\u001b[0;32m-> 1511\u001b[0;31m             \u001b[0;32mreturn\u001b[0m \u001b[0mself\u001b[0m\u001b[0;34m.\u001b[0m\u001b[0m_call_impl\u001b[0m\u001b[0;34m(\u001b[0m\u001b[0;34m*\u001b[0m\u001b[0margs\u001b[0m\u001b[0;34m,\u001b[0m \u001b[0;34m**\u001b[0m\u001b[0mkwargs\u001b[0m\u001b[0;34m)\u001b[0m\u001b[0;34m\u001b[0m\u001b[0;34m\u001b[0m\u001b[0m\n\u001b[0m\u001b[1;32m   1512\u001b[0m \u001b[0;34m\u001b[0m\u001b[0m\n\u001b[1;32m   1513\u001b[0m     \u001b[0;32mdef\u001b[0m \u001b[0m_call_impl\u001b[0m\u001b[0;34m(\u001b[0m\u001b[0mself\u001b[0m\u001b[0;34m,\u001b[0m \u001b[0;34m*\u001b[0m\u001b[0margs\u001b[0m\u001b[0;34m,\u001b[0m \u001b[0;34m**\u001b[0m\u001b[0mkwargs\u001b[0m\u001b[0;34m)\u001b[0m\u001b[0;34m:\u001b[0m\u001b[0;34m\u001b[0m\u001b[0;34m\u001b[0m\u001b[0m\n",
            "\u001b[0;32m/usr/local/lib/python3.10/dist-packages/torch/nn/modules/module.py\u001b[0m in \u001b[0;36m_call_impl\u001b[0;34m(self, *args, **kwargs)\u001b[0m\n\u001b[1;32m   1518\u001b[0m                 \u001b[0;32mor\u001b[0m \u001b[0m_global_backward_pre_hooks\u001b[0m \u001b[0;32mor\u001b[0m \u001b[0m_global_backward_hooks\u001b[0m\u001b[0;34m\u001b[0m\u001b[0;34m\u001b[0m\u001b[0m\n\u001b[1;32m   1519\u001b[0m                 or _global_forward_hooks or _global_forward_pre_hooks):\n\u001b[0;32m-> 1520\u001b[0;31m             \u001b[0;32mreturn\u001b[0m \u001b[0mforward_call\u001b[0m\u001b[0;34m(\u001b[0m\u001b[0;34m*\u001b[0m\u001b[0margs\u001b[0m\u001b[0;34m,\u001b[0m \u001b[0;34m**\u001b[0m\u001b[0mkwargs\u001b[0m\u001b[0;34m)\u001b[0m\u001b[0;34m\u001b[0m\u001b[0;34m\u001b[0m\u001b[0m\n\u001b[0m\u001b[1;32m   1521\u001b[0m \u001b[0;34m\u001b[0m\u001b[0m\n\u001b[1;32m   1522\u001b[0m         \u001b[0;32mtry\u001b[0m\u001b[0;34m:\u001b[0m\u001b[0;34m\u001b[0m\u001b[0;34m\u001b[0m\u001b[0m\n",
            "\u001b[0;32m/usr/local/lib/python3.10/dist-packages/whisper/model.py\u001b[0m in \u001b[0;36mforward\u001b[0;34m(self, x, xa, mask, kv_cache)\u001b[0m\n\u001b[1;32m    137\u001b[0m         \u001b[0;32mif\u001b[0m \u001b[0mself\u001b[0m\u001b[0;34m.\u001b[0m\u001b[0mcross_attn\u001b[0m\u001b[0;34m:\u001b[0m\u001b[0;34m\u001b[0m\u001b[0;34m\u001b[0m\u001b[0m\n\u001b[1;32m    138\u001b[0m             \u001b[0mx\u001b[0m \u001b[0;34m=\u001b[0m \u001b[0mx\u001b[0m \u001b[0;34m+\u001b[0m \u001b[0mself\u001b[0m\u001b[0;34m.\u001b[0m\u001b[0mcross_attn\u001b[0m\u001b[0;34m(\u001b[0m\u001b[0mself\u001b[0m\u001b[0;34m.\u001b[0m\u001b[0mcross_attn_ln\u001b[0m\u001b[0;34m(\u001b[0m\u001b[0mx\u001b[0m\u001b[0;34m)\u001b[0m\u001b[0;34m,\u001b[0m \u001b[0mxa\u001b[0m\u001b[0;34m,\u001b[0m \u001b[0mkv_cache\u001b[0m\u001b[0;34m=\u001b[0m\u001b[0mkv_cache\u001b[0m\u001b[0;34m)\u001b[0m\u001b[0;34m[\u001b[0m\u001b[0;36m0\u001b[0m\u001b[0;34m]\u001b[0m\u001b[0;34m\u001b[0m\u001b[0;34m\u001b[0m\u001b[0m\n\u001b[0;32m--> 139\u001b[0;31m         \u001b[0mx\u001b[0m \u001b[0;34m=\u001b[0m \u001b[0mx\u001b[0m \u001b[0;34m+\u001b[0m \u001b[0mself\u001b[0m\u001b[0;34m.\u001b[0m\u001b[0mmlp\u001b[0m\u001b[0;34m(\u001b[0m\u001b[0mself\u001b[0m\u001b[0;34m.\u001b[0m\u001b[0mmlp_ln\u001b[0m\u001b[0;34m(\u001b[0m\u001b[0mx\u001b[0m\u001b[0;34m)\u001b[0m\u001b[0;34m)\u001b[0m\u001b[0;34m\u001b[0m\u001b[0;34m\u001b[0m\u001b[0m\n\u001b[0m\u001b[1;32m    140\u001b[0m         \u001b[0;32mreturn\u001b[0m \u001b[0mx\u001b[0m\u001b[0;34m\u001b[0m\u001b[0;34m\u001b[0m\u001b[0m\n\u001b[1;32m    141\u001b[0m \u001b[0;34m\u001b[0m\u001b[0m\n",
            "\u001b[0;32m/usr/local/lib/python3.10/dist-packages/torch/nn/modules/module.py\u001b[0m in \u001b[0;36m_wrapped_call_impl\u001b[0;34m(self, *args, **kwargs)\u001b[0m\n\u001b[1;32m   1509\u001b[0m             \u001b[0;32mreturn\u001b[0m \u001b[0mself\u001b[0m\u001b[0;34m.\u001b[0m\u001b[0m_compiled_call_impl\u001b[0m\u001b[0;34m(\u001b[0m\u001b[0;34m*\u001b[0m\u001b[0margs\u001b[0m\u001b[0;34m,\u001b[0m \u001b[0;34m**\u001b[0m\u001b[0mkwargs\u001b[0m\u001b[0;34m)\u001b[0m  \u001b[0;31m# type: ignore[misc]\u001b[0m\u001b[0;34m\u001b[0m\u001b[0;34m\u001b[0m\u001b[0m\n\u001b[1;32m   1510\u001b[0m         \u001b[0;32melse\u001b[0m\u001b[0;34m:\u001b[0m\u001b[0;34m\u001b[0m\u001b[0;34m\u001b[0m\u001b[0m\n\u001b[0;32m-> 1511\u001b[0;31m             \u001b[0;32mreturn\u001b[0m \u001b[0mself\u001b[0m\u001b[0;34m.\u001b[0m\u001b[0m_call_impl\u001b[0m\u001b[0;34m(\u001b[0m\u001b[0;34m*\u001b[0m\u001b[0margs\u001b[0m\u001b[0;34m,\u001b[0m \u001b[0;34m**\u001b[0m\u001b[0mkwargs\u001b[0m\u001b[0;34m)\u001b[0m\u001b[0;34m\u001b[0m\u001b[0;34m\u001b[0m\u001b[0m\n\u001b[0m\u001b[1;32m   1512\u001b[0m \u001b[0;34m\u001b[0m\u001b[0m\n\u001b[1;32m   1513\u001b[0m     \u001b[0;32mdef\u001b[0m \u001b[0m_call_impl\u001b[0m\u001b[0;34m(\u001b[0m\u001b[0mself\u001b[0m\u001b[0;34m,\u001b[0m \u001b[0;34m*\u001b[0m\u001b[0margs\u001b[0m\u001b[0;34m,\u001b[0m \u001b[0;34m**\u001b[0m\u001b[0mkwargs\u001b[0m\u001b[0;34m)\u001b[0m\u001b[0;34m:\u001b[0m\u001b[0;34m\u001b[0m\u001b[0;34m\u001b[0m\u001b[0m\n",
            "\u001b[0;32m/usr/local/lib/python3.10/dist-packages/torch/nn/modules/module.py\u001b[0m in \u001b[0;36m_call_impl\u001b[0;34m(self, *args, **kwargs)\u001b[0m\n\u001b[1;32m   1518\u001b[0m                 \u001b[0;32mor\u001b[0m \u001b[0m_global_backward_pre_hooks\u001b[0m \u001b[0;32mor\u001b[0m \u001b[0m_global_backward_hooks\u001b[0m\u001b[0;34m\u001b[0m\u001b[0;34m\u001b[0m\u001b[0m\n\u001b[1;32m   1519\u001b[0m                 or _global_forward_hooks or _global_forward_pre_hooks):\n\u001b[0;32m-> 1520\u001b[0;31m             \u001b[0;32mreturn\u001b[0m \u001b[0mforward_call\u001b[0m\u001b[0;34m(\u001b[0m\u001b[0;34m*\u001b[0m\u001b[0margs\u001b[0m\u001b[0;34m,\u001b[0m \u001b[0;34m**\u001b[0m\u001b[0mkwargs\u001b[0m\u001b[0;34m)\u001b[0m\u001b[0;34m\u001b[0m\u001b[0;34m\u001b[0m\u001b[0m\n\u001b[0m\u001b[1;32m   1521\u001b[0m \u001b[0;34m\u001b[0m\u001b[0m\n\u001b[1;32m   1522\u001b[0m         \u001b[0;32mtry\u001b[0m\u001b[0;34m:\u001b[0m\u001b[0;34m\u001b[0m\u001b[0;34m\u001b[0m\u001b[0m\n",
            "\u001b[0;32m/usr/local/lib/python3.10/dist-packages/torch/nn/modules/container.py\u001b[0m in \u001b[0;36mforward\u001b[0;34m(self, input)\u001b[0m\n\u001b[1;32m    215\u001b[0m     \u001b[0;32mdef\u001b[0m \u001b[0mforward\u001b[0m\u001b[0;34m(\u001b[0m\u001b[0mself\u001b[0m\u001b[0;34m,\u001b[0m \u001b[0minput\u001b[0m\u001b[0;34m)\u001b[0m\u001b[0;34m:\u001b[0m\u001b[0;34m\u001b[0m\u001b[0;34m\u001b[0m\u001b[0m\n\u001b[1;32m    216\u001b[0m         \u001b[0;32mfor\u001b[0m \u001b[0mmodule\u001b[0m \u001b[0;32min\u001b[0m \u001b[0mself\u001b[0m\u001b[0;34m:\u001b[0m\u001b[0;34m\u001b[0m\u001b[0;34m\u001b[0m\u001b[0m\n\u001b[0;32m--> 217\u001b[0;31m             \u001b[0minput\u001b[0m \u001b[0;34m=\u001b[0m \u001b[0mmodule\u001b[0m\u001b[0;34m(\u001b[0m\u001b[0minput\u001b[0m\u001b[0;34m)\u001b[0m\u001b[0;34m\u001b[0m\u001b[0;34m\u001b[0m\u001b[0m\n\u001b[0m\u001b[1;32m    218\u001b[0m         \u001b[0;32mreturn\u001b[0m \u001b[0minput\u001b[0m\u001b[0;34m\u001b[0m\u001b[0;34m\u001b[0m\u001b[0m\n\u001b[1;32m    219\u001b[0m \u001b[0;34m\u001b[0m\u001b[0m\n",
            "\u001b[0;32m/usr/local/lib/python3.10/dist-packages/torch/nn/modules/module.py\u001b[0m in \u001b[0;36m_wrapped_call_impl\u001b[0;34m(self, *args, **kwargs)\u001b[0m\n\u001b[1;32m   1509\u001b[0m             \u001b[0;32mreturn\u001b[0m \u001b[0mself\u001b[0m\u001b[0;34m.\u001b[0m\u001b[0m_compiled_call_impl\u001b[0m\u001b[0;34m(\u001b[0m\u001b[0;34m*\u001b[0m\u001b[0margs\u001b[0m\u001b[0;34m,\u001b[0m \u001b[0;34m**\u001b[0m\u001b[0mkwargs\u001b[0m\u001b[0;34m)\u001b[0m  \u001b[0;31m# type: ignore[misc]\u001b[0m\u001b[0;34m\u001b[0m\u001b[0;34m\u001b[0m\u001b[0m\n\u001b[1;32m   1510\u001b[0m         \u001b[0;32melse\u001b[0m\u001b[0;34m:\u001b[0m\u001b[0;34m\u001b[0m\u001b[0;34m\u001b[0m\u001b[0m\n\u001b[0;32m-> 1511\u001b[0;31m             \u001b[0;32mreturn\u001b[0m \u001b[0mself\u001b[0m\u001b[0;34m.\u001b[0m\u001b[0m_call_impl\u001b[0m\u001b[0;34m(\u001b[0m\u001b[0;34m*\u001b[0m\u001b[0margs\u001b[0m\u001b[0;34m,\u001b[0m \u001b[0;34m**\u001b[0m\u001b[0mkwargs\u001b[0m\u001b[0;34m)\u001b[0m\u001b[0;34m\u001b[0m\u001b[0;34m\u001b[0m\u001b[0m\n\u001b[0m\u001b[1;32m   1512\u001b[0m \u001b[0;34m\u001b[0m\u001b[0m\n\u001b[1;32m   1513\u001b[0m     \u001b[0;32mdef\u001b[0m \u001b[0m_call_impl\u001b[0m\u001b[0;34m(\u001b[0m\u001b[0mself\u001b[0m\u001b[0;34m,\u001b[0m \u001b[0;34m*\u001b[0m\u001b[0margs\u001b[0m\u001b[0;34m,\u001b[0m \u001b[0;34m**\u001b[0m\u001b[0mkwargs\u001b[0m\u001b[0;34m)\u001b[0m\u001b[0;34m:\u001b[0m\u001b[0;34m\u001b[0m\u001b[0;34m\u001b[0m\u001b[0m\n",
            "\u001b[0;32m/usr/local/lib/python3.10/dist-packages/torch/nn/modules/module.py\u001b[0m in \u001b[0;36m_call_impl\u001b[0;34m(self, *args, **kwargs)\u001b[0m\n\u001b[1;32m   1518\u001b[0m                 \u001b[0;32mor\u001b[0m \u001b[0m_global_backward_pre_hooks\u001b[0m \u001b[0;32mor\u001b[0m \u001b[0m_global_backward_hooks\u001b[0m\u001b[0;34m\u001b[0m\u001b[0;34m\u001b[0m\u001b[0m\n\u001b[1;32m   1519\u001b[0m                 or _global_forward_hooks or _global_forward_pre_hooks):\n\u001b[0;32m-> 1520\u001b[0;31m             \u001b[0;32mreturn\u001b[0m \u001b[0mforward_call\u001b[0m\u001b[0;34m(\u001b[0m\u001b[0;34m*\u001b[0m\u001b[0margs\u001b[0m\u001b[0;34m,\u001b[0m \u001b[0;34m**\u001b[0m\u001b[0mkwargs\u001b[0m\u001b[0;34m)\u001b[0m\u001b[0;34m\u001b[0m\u001b[0;34m\u001b[0m\u001b[0m\n\u001b[0m\u001b[1;32m   1521\u001b[0m \u001b[0;34m\u001b[0m\u001b[0m\n\u001b[1;32m   1522\u001b[0m         \u001b[0;32mtry\u001b[0m\u001b[0;34m:\u001b[0m\u001b[0;34m\u001b[0m\u001b[0;34m\u001b[0m\u001b[0m\n",
            "\u001b[0;32m/usr/local/lib/python3.10/dist-packages/whisper/model.py\u001b[0m in \u001b[0;36mforward\u001b[0;34m(self, x)\u001b[0m\n\u001b[1;32m     37\u001b[0m         return F.linear(\n\u001b[1;32m     38\u001b[0m             \u001b[0mx\u001b[0m\u001b[0;34m,\u001b[0m\u001b[0;34m\u001b[0m\u001b[0;34m\u001b[0m\u001b[0m\n\u001b[0;32m---> 39\u001b[0;31m             \u001b[0mself\u001b[0m\u001b[0;34m.\u001b[0m\u001b[0mweight\u001b[0m\u001b[0;34m.\u001b[0m\u001b[0mto\u001b[0m\u001b[0;34m(\u001b[0m\u001b[0mx\u001b[0m\u001b[0;34m.\u001b[0m\u001b[0mdtype\u001b[0m\u001b[0;34m)\u001b[0m\u001b[0;34m,\u001b[0m\u001b[0;34m\u001b[0m\u001b[0;34m\u001b[0m\u001b[0m\n\u001b[0m\u001b[1;32m     40\u001b[0m             \u001b[0;32mNone\u001b[0m \u001b[0;32mif\u001b[0m \u001b[0mself\u001b[0m\u001b[0;34m.\u001b[0m\u001b[0mbias\u001b[0m \u001b[0;32mis\u001b[0m \u001b[0;32mNone\u001b[0m \u001b[0;32melse\u001b[0m \u001b[0mself\u001b[0m\u001b[0;34m.\u001b[0m\u001b[0mbias\u001b[0m\u001b[0;34m.\u001b[0m\u001b[0mto\u001b[0m\u001b[0;34m(\u001b[0m\u001b[0mx\u001b[0m\u001b[0;34m.\u001b[0m\u001b[0mdtype\u001b[0m\u001b[0;34m)\u001b[0m\u001b[0;34m,\u001b[0m\u001b[0;34m\u001b[0m\u001b[0;34m\u001b[0m\u001b[0m\n\u001b[1;32m     41\u001b[0m         )\n",
            "\u001b[0;31mKeyboardInterrupt\u001b[0m: "
          ]
        }
      ]
    },
    {
      "cell_type": "code",
      "source": [
        "result = model.transcribe(\"01-00004-02.mp3\",language='hi')\n",
        "print(result[\"text\"])"
      ],
      "metadata": {
        "colab": {
          "base_uri": "https://localhost:8080/"
        },
        "id": "zEt8sBEMWOFP",
        "outputId": "81a401e2-f305-4d29-ab98-d2e4b6725df9"
      },
      "execution_count": null,
      "outputs": [
        {
          "output_type": "stream",
          "name": "stdout",
          "text": [
            " वहीं राहुल कुमार बुगेश कुमार राजा कुमार अनुरख कुमार शमी कुमार रहेश कुमार मधिस कुमार शाहित गर्जेनों कार्यकार भी सामन से जन्मवक दिलपांडे के मौगरा से बिहार मुझवानी लिजर प्रेस्टूर्स\n"
          ]
        }
      ]
    },
    {
      "cell_type": "code",
      "source": [
        "!pip install jiwer"
      ],
      "metadata": {
        "id": "WAl6ffABYmwX",
        "outputId": "98da1675-2c1e-4256-e5a3-430f8a92f2ee",
        "colab": {
          "base_uri": "https://localhost:8080/"
        }
      },
      "execution_count": 10,
      "outputs": [
        {
          "output_type": "stream",
          "name": "stdout",
          "text": [
            "Collecting jiwer\n",
            "  Downloading jiwer-3.0.3-py3-none-any.whl (21 kB)\n",
            "Requirement already satisfied: click<9.0.0,>=8.1.3 in /usr/local/lib/python3.10/dist-packages (from jiwer) (8.1.7)\n",
            "Collecting rapidfuzz<4,>=3 (from jiwer)\n",
            "  Downloading rapidfuzz-3.8.1-cp310-cp310-manylinux_2_17_x86_64.manylinux2014_x86_64.whl (3.4 MB)\n",
            "\u001b[2K     \u001b[90m━━━━━━━━━━━━━━━━━━━━━━━━━━━━━━━━━━━━━━━━\u001b[0m \u001b[32m3.4/3.4 MB\u001b[0m \u001b[31m13.7 MB/s\u001b[0m eta \u001b[36m0:00:00\u001b[0m\n",
            "\u001b[?25hInstalling collected packages: rapidfuzz, jiwer\n",
            "Successfully installed jiwer-3.0.3 rapidfuzz-3.8.1\n"
          ]
        }
      ]
    },
    {
      "cell_type": "code",
      "source": [
        "!pip install asr-evaluation"
      ],
      "metadata": {
        "id": "VHQwLi2JasuX",
        "outputId": "ce256a31-5667-4912-8b6e-87954208a93a",
        "colab": {
          "base_uri": "https://localhost:8080/"
        }
      },
      "execution_count": 11,
      "outputs": [
        {
          "output_type": "stream",
          "name": "stdout",
          "text": [
            "Collecting asr-evaluation\n",
            "  Downloading asr_evaluation-2.0.4-py3-none-any.whl (9.1 kB)\n",
            "Collecting edit-distance (from asr-evaluation)\n",
            "  Downloading edit_distance-1.0.6-py3-none-any.whl (11 kB)\n",
            "Requirement already satisfied: termcolor in /usr/local/lib/python3.10/dist-packages (from asr-evaluation) (2.4.0)\n",
            "Installing collected packages: edit-distance, asr-evaluation\n",
            "Successfully installed asr-evaluation-2.0.4 edit-distance-1.0.6\n"
          ]
        }
      ]
    },
    {
      "cell_type": "code",
      "source": [],
      "metadata": {
        "id": "VuZDiFlmck4g"
      },
      "execution_count": null,
      "outputs": []
    },
    {
      "cell_type": "code",
      "source": [
        "import glob\n",
        "\n",
        "directory = '/content/drive/MyDrive/Audio/'\n",
        "\n",
        "# Define the pattern to search for MP3 files\n",
        "pattern = '*.mp3'\n",
        "\n",
        "# Use glob to find MP3 files\n",
        "mp3_files = glob.glob(directory + '**/' + pattern, recursive=True)\n",
        "\n",
        "# Open a text file to write results\n",
        "with open('/content/drive/MyDrive/ResultText3.txt', 'w') as file:\n",
        "    # Iterate over each MP3 file\n",
        "    i=0\n",
        "    for mp3_file in mp3_files:\n",
        "        result = model.transcribe(mp3_file, language='hi')  # Assuming \"model\" is defined elsewhere\n",
        "        file.write(mp3_file + ': ' + result[\"text\"] + '\\n')\n",
        "        i+=1\n",
        "        if(i==50):\n",
        "            break\n"
      ],
      "metadata": {
        "colab": {
          "base_uri": "https://localhost:8080/",
          "height": 356
        },
        "id": "ac9QpsmkoOt9",
        "outputId": "c403871c-52c2-4746-bdab-a973dac6178d"
      },
      "execution_count": 9,
      "outputs": [
        {
          "output_type": "error",
          "ename": "KeyboardInterrupt",
          "evalue": "",
          "traceback": [
            "\u001b[0;31m---------------------------------------------------------------------------\u001b[0m",
            "\u001b[0;31mKeyboardInterrupt\u001b[0m                         Traceback (most recent call last)",
            "\u001b[0;32m<ipython-input-9-a453dfa78de5>\u001b[0m in \u001b[0;36m<cell line: 12>\u001b[0;34m()\u001b[0m\n\u001b[1;32m     14\u001b[0m     \u001b[0mi\u001b[0m\u001b[0;34m=\u001b[0m\u001b[0;36m0\u001b[0m\u001b[0;34m\u001b[0m\u001b[0;34m\u001b[0m\u001b[0m\n\u001b[1;32m     15\u001b[0m     \u001b[0;32mfor\u001b[0m \u001b[0mmp3_file\u001b[0m \u001b[0;32min\u001b[0m \u001b[0mmp3_files\u001b[0m\u001b[0;34m:\u001b[0m\u001b[0;34m\u001b[0m\u001b[0;34m\u001b[0m\u001b[0m\n\u001b[0;32m---> 16\u001b[0;31m         \u001b[0mresult\u001b[0m \u001b[0;34m=\u001b[0m \u001b[0mmodel\u001b[0m\u001b[0;34m.\u001b[0m\u001b[0mtranscribe\u001b[0m\u001b[0;34m(\u001b[0m\u001b[0mmp3_file\u001b[0m\u001b[0;34m,\u001b[0m \u001b[0mlanguage\u001b[0m\u001b[0;34m=\u001b[0m\u001b[0;34m'hi'\u001b[0m\u001b[0;34m)\u001b[0m  \u001b[0;31m# Assuming \"model\" is defined elsewhere\u001b[0m\u001b[0;34m\u001b[0m\u001b[0;34m\u001b[0m\u001b[0m\n\u001b[0m\u001b[1;32m     17\u001b[0m         \u001b[0mfile\u001b[0m\u001b[0;34m.\u001b[0m\u001b[0mwrite\u001b[0m\u001b[0;34m(\u001b[0m\u001b[0mmp3_file\u001b[0m \u001b[0;34m+\u001b[0m \u001b[0;34m': '\u001b[0m \u001b[0;34m+\u001b[0m \u001b[0mresult\u001b[0m\u001b[0;34m[\u001b[0m\u001b[0;34m\"text\"\u001b[0m\u001b[0;34m]\u001b[0m \u001b[0;34m+\u001b[0m \u001b[0;34m'\\n'\u001b[0m\u001b[0;34m)\u001b[0m\u001b[0;34m\u001b[0m\u001b[0;34m\u001b[0m\u001b[0m\n\u001b[1;32m     18\u001b[0m         \u001b[0mi\u001b[0m\u001b[0;34m+=\u001b[0m\u001b[0;36m1\u001b[0m\u001b[0;34m\u001b[0m\u001b[0;34m\u001b[0m\u001b[0m\n",
            "\u001b[0;32m/usr/local/lib/python3.10/dist-packages/whisper/transcribe.py\u001b[0m in \u001b[0;36mtranscribe\u001b[0;34m(model, audio, verbose, temperature, compression_ratio_threshold, logprob_threshold, no_speech_threshold, condition_on_previous_text, initial_prompt, word_timestamps, prepend_punctuations, append_punctuations, clip_timestamps, hallucination_silence_threshold, **decode_options)\u001b[0m\n\u001b[1;32m    277\u001b[0m \u001b[0;34m\u001b[0m\u001b[0m\n\u001b[1;32m    278\u001b[0m             \u001b[0mdecode_options\u001b[0m\u001b[0;34m[\u001b[0m\u001b[0;34m\"prompt\"\u001b[0m\u001b[0;34m]\u001b[0m \u001b[0;34m=\u001b[0m \u001b[0mall_tokens\u001b[0m\u001b[0;34m[\u001b[0m\u001b[0mprompt_reset_since\u001b[0m\u001b[0;34m:\u001b[0m\u001b[0;34m]\u001b[0m\u001b[0;34m\u001b[0m\u001b[0;34m\u001b[0m\u001b[0m\n\u001b[0;32m--> 279\u001b[0;31m             \u001b[0mresult\u001b[0m\u001b[0;34m:\u001b[0m \u001b[0mDecodingResult\u001b[0m \u001b[0;34m=\u001b[0m \u001b[0mdecode_with_fallback\u001b[0m\u001b[0;34m(\u001b[0m\u001b[0mmel_segment\u001b[0m\u001b[0;34m)\u001b[0m\u001b[0;34m\u001b[0m\u001b[0;34m\u001b[0m\u001b[0m\n\u001b[0m\u001b[1;32m    280\u001b[0m             \u001b[0mtokens\u001b[0m \u001b[0;34m=\u001b[0m \u001b[0mtorch\u001b[0m\u001b[0;34m.\u001b[0m\u001b[0mtensor\u001b[0m\u001b[0;34m(\u001b[0m\u001b[0mresult\u001b[0m\u001b[0;34m.\u001b[0m\u001b[0mtokens\u001b[0m\u001b[0;34m)\u001b[0m\u001b[0;34m\u001b[0m\u001b[0;34m\u001b[0m\u001b[0m\n\u001b[1;32m    281\u001b[0m \u001b[0;34m\u001b[0m\u001b[0m\n",
            "\u001b[0;32m/usr/local/lib/python3.10/dist-packages/whisper/transcribe.py\u001b[0m in \u001b[0;36mdecode_with_fallback\u001b[0;34m(segment)\u001b[0m\n\u001b[1;32m    193\u001b[0m \u001b[0;34m\u001b[0m\u001b[0m\n\u001b[1;32m    194\u001b[0m             \u001b[0moptions\u001b[0m \u001b[0;34m=\u001b[0m \u001b[0mDecodingOptions\u001b[0m\u001b[0;34m(\u001b[0m\u001b[0;34m**\u001b[0m\u001b[0mkwargs\u001b[0m\u001b[0;34m,\u001b[0m \u001b[0mtemperature\u001b[0m\u001b[0;34m=\u001b[0m\u001b[0mt\u001b[0m\u001b[0;34m)\u001b[0m\u001b[0;34m\u001b[0m\u001b[0;34m\u001b[0m\u001b[0m\n\u001b[0;32m--> 195\u001b[0;31m             \u001b[0mdecode_result\u001b[0m \u001b[0;34m=\u001b[0m \u001b[0mmodel\u001b[0m\u001b[0;34m.\u001b[0m\u001b[0mdecode\u001b[0m\u001b[0;34m(\u001b[0m\u001b[0msegment\u001b[0m\u001b[0;34m,\u001b[0m \u001b[0moptions\u001b[0m\u001b[0;34m)\u001b[0m\u001b[0;34m\u001b[0m\u001b[0;34m\u001b[0m\u001b[0m\n\u001b[0m\u001b[1;32m    196\u001b[0m \u001b[0;34m\u001b[0m\u001b[0m\n\u001b[1;32m    197\u001b[0m             \u001b[0mneeds_fallback\u001b[0m \u001b[0;34m=\u001b[0m \u001b[0;32mFalse\u001b[0m\u001b[0;34m\u001b[0m\u001b[0;34m\u001b[0m\u001b[0m\n",
            "\u001b[0;32m/usr/local/lib/python3.10/dist-packages/torch/utils/_contextlib.py\u001b[0m in \u001b[0;36mdecorate_context\u001b[0;34m(*args, **kwargs)\u001b[0m\n\u001b[1;32m    113\u001b[0m     \u001b[0;32mdef\u001b[0m \u001b[0mdecorate_context\u001b[0m\u001b[0;34m(\u001b[0m\u001b[0;34m*\u001b[0m\u001b[0margs\u001b[0m\u001b[0;34m,\u001b[0m \u001b[0;34m**\u001b[0m\u001b[0mkwargs\u001b[0m\u001b[0;34m)\u001b[0m\u001b[0;34m:\u001b[0m\u001b[0;34m\u001b[0m\u001b[0;34m\u001b[0m\u001b[0m\n\u001b[1;32m    114\u001b[0m         \u001b[0;32mwith\u001b[0m \u001b[0mctx_factory\u001b[0m\u001b[0;34m(\u001b[0m\u001b[0;34m)\u001b[0m\u001b[0;34m:\u001b[0m\u001b[0;34m\u001b[0m\u001b[0;34m\u001b[0m\u001b[0m\n\u001b[0;32m--> 115\u001b[0;31m             \u001b[0;32mreturn\u001b[0m \u001b[0mfunc\u001b[0m\u001b[0;34m(\u001b[0m\u001b[0;34m*\u001b[0m\u001b[0margs\u001b[0m\u001b[0;34m,\u001b[0m \u001b[0;34m**\u001b[0m\u001b[0mkwargs\u001b[0m\u001b[0;34m)\u001b[0m\u001b[0;34m\u001b[0m\u001b[0;34m\u001b[0m\u001b[0m\n\u001b[0m\u001b[1;32m    116\u001b[0m \u001b[0;34m\u001b[0m\u001b[0m\n\u001b[1;32m    117\u001b[0m     \u001b[0;32mreturn\u001b[0m \u001b[0mdecorate_context\u001b[0m\u001b[0;34m\u001b[0m\u001b[0;34m\u001b[0m\u001b[0m\n",
            "\u001b[0;32m/usr/local/lib/python3.10/dist-packages/whisper/decoding.py\u001b[0m in \u001b[0;36mdecode\u001b[0;34m(model, mel, options, **kwargs)\u001b[0m\n\u001b[1;32m    822\u001b[0m         \u001b[0moptions\u001b[0m \u001b[0;34m=\u001b[0m \u001b[0mreplace\u001b[0m\u001b[0;34m(\u001b[0m\u001b[0moptions\u001b[0m\u001b[0;34m,\u001b[0m \u001b[0;34m**\u001b[0m\u001b[0mkwargs\u001b[0m\u001b[0;34m)\u001b[0m\u001b[0;34m\u001b[0m\u001b[0;34m\u001b[0m\u001b[0m\n\u001b[1;32m    823\u001b[0m \u001b[0;34m\u001b[0m\u001b[0m\n\u001b[0;32m--> 824\u001b[0;31m     \u001b[0mresult\u001b[0m \u001b[0;34m=\u001b[0m \u001b[0mDecodingTask\u001b[0m\u001b[0;34m(\u001b[0m\u001b[0mmodel\u001b[0m\u001b[0;34m,\u001b[0m \u001b[0moptions\u001b[0m\u001b[0;34m)\u001b[0m\u001b[0;34m.\u001b[0m\u001b[0mrun\u001b[0m\u001b[0;34m(\u001b[0m\u001b[0mmel\u001b[0m\u001b[0;34m)\u001b[0m\u001b[0;34m\u001b[0m\u001b[0;34m\u001b[0m\u001b[0m\n\u001b[0m\u001b[1;32m    825\u001b[0m \u001b[0;34m\u001b[0m\u001b[0m\n\u001b[1;32m    826\u001b[0m     \u001b[0;32mreturn\u001b[0m \u001b[0mresult\u001b[0m\u001b[0;34m[\u001b[0m\u001b[0;36m0\u001b[0m\u001b[0;34m]\u001b[0m \u001b[0;32mif\u001b[0m \u001b[0msingle\u001b[0m \u001b[0;32melse\u001b[0m \u001b[0mresult\u001b[0m\u001b[0;34m\u001b[0m\u001b[0;34m\u001b[0m\u001b[0m\n",
            "\u001b[0;32m/usr/local/lib/python3.10/dist-packages/torch/utils/_contextlib.py\u001b[0m in \u001b[0;36mdecorate_context\u001b[0;34m(*args, **kwargs)\u001b[0m\n\u001b[1;32m    113\u001b[0m     \u001b[0;32mdef\u001b[0m \u001b[0mdecorate_context\u001b[0m\u001b[0;34m(\u001b[0m\u001b[0;34m*\u001b[0m\u001b[0margs\u001b[0m\u001b[0;34m,\u001b[0m \u001b[0;34m**\u001b[0m\u001b[0mkwargs\u001b[0m\u001b[0;34m)\u001b[0m\u001b[0;34m:\u001b[0m\u001b[0;34m\u001b[0m\u001b[0;34m\u001b[0m\u001b[0m\n\u001b[1;32m    114\u001b[0m         \u001b[0;32mwith\u001b[0m \u001b[0mctx_factory\u001b[0m\u001b[0;34m(\u001b[0m\u001b[0;34m)\u001b[0m\u001b[0;34m:\u001b[0m\u001b[0;34m\u001b[0m\u001b[0;34m\u001b[0m\u001b[0m\n\u001b[0;32m--> 115\u001b[0;31m             \u001b[0;32mreturn\u001b[0m \u001b[0mfunc\u001b[0m\u001b[0;34m(\u001b[0m\u001b[0;34m*\u001b[0m\u001b[0margs\u001b[0m\u001b[0;34m,\u001b[0m \u001b[0;34m**\u001b[0m\u001b[0mkwargs\u001b[0m\u001b[0;34m)\u001b[0m\u001b[0;34m\u001b[0m\u001b[0;34m\u001b[0m\u001b[0m\n\u001b[0m\u001b[1;32m    116\u001b[0m \u001b[0;34m\u001b[0m\u001b[0m\n\u001b[1;32m    117\u001b[0m     \u001b[0;32mreturn\u001b[0m \u001b[0mdecorate_context\u001b[0m\u001b[0;34m\u001b[0m\u001b[0;34m\u001b[0m\u001b[0m\n",
            "\u001b[0;32m/usr/local/lib/python3.10/dist-packages/whisper/decoding.py\u001b[0m in \u001b[0;36mrun\u001b[0;34m(self, mel)\u001b[0m\n\u001b[1;32m    735\u001b[0m \u001b[0;34m\u001b[0m\u001b[0m\n\u001b[1;32m    736\u001b[0m         \u001b[0;31m# call the main sampling loop\u001b[0m\u001b[0;34m\u001b[0m\u001b[0;34m\u001b[0m\u001b[0m\n\u001b[0;32m--> 737\u001b[0;31m         \u001b[0mtokens\u001b[0m\u001b[0;34m,\u001b[0m \u001b[0msum_logprobs\u001b[0m\u001b[0;34m,\u001b[0m \u001b[0mno_speech_probs\u001b[0m \u001b[0;34m=\u001b[0m \u001b[0mself\u001b[0m\u001b[0;34m.\u001b[0m\u001b[0m_main_loop\u001b[0m\u001b[0;34m(\u001b[0m\u001b[0maudio_features\u001b[0m\u001b[0;34m,\u001b[0m \u001b[0mtokens\u001b[0m\u001b[0;34m)\u001b[0m\u001b[0;34m\u001b[0m\u001b[0;34m\u001b[0m\u001b[0m\n\u001b[0m\u001b[1;32m    738\u001b[0m \u001b[0;34m\u001b[0m\u001b[0m\n\u001b[1;32m    739\u001b[0m         \u001b[0;31m# reshape the tensors to have (n_audio, n_group) as the first two dimensions\u001b[0m\u001b[0;34m\u001b[0m\u001b[0;34m\u001b[0m\u001b[0m\n",
            "\u001b[0;32m/usr/local/lib/python3.10/dist-packages/whisper/decoding.py\u001b[0m in \u001b[0;36m_main_loop\u001b[0;34m(self, audio_features, tokens)\u001b[0m\n\u001b[1;32m    685\u001b[0m         \u001b[0;32mtry\u001b[0m\u001b[0;34m:\u001b[0m\u001b[0;34m\u001b[0m\u001b[0;34m\u001b[0m\u001b[0m\n\u001b[1;32m    686\u001b[0m             \u001b[0;32mfor\u001b[0m \u001b[0mi\u001b[0m \u001b[0;32min\u001b[0m \u001b[0mrange\u001b[0m\u001b[0;34m(\u001b[0m\u001b[0mself\u001b[0m\u001b[0;34m.\u001b[0m\u001b[0msample_len\u001b[0m\u001b[0;34m)\u001b[0m\u001b[0;34m:\u001b[0m\u001b[0;34m\u001b[0m\u001b[0;34m\u001b[0m\u001b[0m\n\u001b[0;32m--> 687\u001b[0;31m                 \u001b[0mlogits\u001b[0m \u001b[0;34m=\u001b[0m \u001b[0mself\u001b[0m\u001b[0;34m.\u001b[0m\u001b[0minference\u001b[0m\u001b[0;34m.\u001b[0m\u001b[0mlogits\u001b[0m\u001b[0;34m(\u001b[0m\u001b[0mtokens\u001b[0m\u001b[0;34m,\u001b[0m \u001b[0maudio_features\u001b[0m\u001b[0;34m)\u001b[0m\u001b[0;34m\u001b[0m\u001b[0;34m\u001b[0m\u001b[0m\n\u001b[0m\u001b[1;32m    688\u001b[0m \u001b[0;34m\u001b[0m\u001b[0m\n\u001b[1;32m    689\u001b[0m                 if (\n",
            "\u001b[0;32m/usr/local/lib/python3.10/dist-packages/whisper/decoding.py\u001b[0m in \u001b[0;36mlogits\u001b[0;34m(self, tokens, audio_features)\u001b[0m\n\u001b[1;32m    161\u001b[0m             \u001b[0mtokens\u001b[0m \u001b[0;34m=\u001b[0m \u001b[0mtokens\u001b[0m\u001b[0;34m[\u001b[0m\u001b[0;34m:\u001b[0m\u001b[0;34m,\u001b[0m \u001b[0;34m-\u001b[0m\u001b[0;36m1\u001b[0m\u001b[0;34m:\u001b[0m\u001b[0;34m]\u001b[0m\u001b[0;34m\u001b[0m\u001b[0;34m\u001b[0m\u001b[0m\n\u001b[1;32m    162\u001b[0m \u001b[0;34m\u001b[0m\u001b[0m\n\u001b[0;32m--> 163\u001b[0;31m         \u001b[0;32mreturn\u001b[0m \u001b[0mself\u001b[0m\u001b[0;34m.\u001b[0m\u001b[0mmodel\u001b[0m\u001b[0;34m.\u001b[0m\u001b[0mdecoder\u001b[0m\u001b[0;34m(\u001b[0m\u001b[0mtokens\u001b[0m\u001b[0;34m,\u001b[0m \u001b[0maudio_features\u001b[0m\u001b[0;34m,\u001b[0m \u001b[0mkv_cache\u001b[0m\u001b[0;34m=\u001b[0m\u001b[0mself\u001b[0m\u001b[0;34m.\u001b[0m\u001b[0mkv_cache\u001b[0m\u001b[0;34m)\u001b[0m\u001b[0;34m\u001b[0m\u001b[0;34m\u001b[0m\u001b[0m\n\u001b[0m\u001b[1;32m    164\u001b[0m \u001b[0;34m\u001b[0m\u001b[0m\n\u001b[1;32m    165\u001b[0m     \u001b[0;32mdef\u001b[0m \u001b[0mcleanup_caching\u001b[0m\u001b[0;34m(\u001b[0m\u001b[0mself\u001b[0m\u001b[0;34m)\u001b[0m\u001b[0;34m:\u001b[0m\u001b[0;34m\u001b[0m\u001b[0;34m\u001b[0m\u001b[0m\n",
            "\u001b[0;32m/usr/local/lib/python3.10/dist-packages/torch/nn/modules/module.py\u001b[0m in \u001b[0;36m_wrapped_call_impl\u001b[0;34m(self, *args, **kwargs)\u001b[0m\n\u001b[1;32m   1509\u001b[0m             \u001b[0;32mreturn\u001b[0m \u001b[0mself\u001b[0m\u001b[0;34m.\u001b[0m\u001b[0m_compiled_call_impl\u001b[0m\u001b[0;34m(\u001b[0m\u001b[0;34m*\u001b[0m\u001b[0margs\u001b[0m\u001b[0;34m,\u001b[0m \u001b[0;34m**\u001b[0m\u001b[0mkwargs\u001b[0m\u001b[0;34m)\u001b[0m  \u001b[0;31m# type: ignore[misc]\u001b[0m\u001b[0;34m\u001b[0m\u001b[0;34m\u001b[0m\u001b[0m\n\u001b[1;32m   1510\u001b[0m         \u001b[0;32melse\u001b[0m\u001b[0;34m:\u001b[0m\u001b[0;34m\u001b[0m\u001b[0;34m\u001b[0m\u001b[0m\n\u001b[0;32m-> 1511\u001b[0;31m             \u001b[0;32mreturn\u001b[0m \u001b[0mself\u001b[0m\u001b[0;34m.\u001b[0m\u001b[0m_call_impl\u001b[0m\u001b[0;34m(\u001b[0m\u001b[0;34m*\u001b[0m\u001b[0margs\u001b[0m\u001b[0;34m,\u001b[0m \u001b[0;34m**\u001b[0m\u001b[0mkwargs\u001b[0m\u001b[0;34m)\u001b[0m\u001b[0;34m\u001b[0m\u001b[0;34m\u001b[0m\u001b[0m\n\u001b[0m\u001b[1;32m   1512\u001b[0m \u001b[0;34m\u001b[0m\u001b[0m\n\u001b[1;32m   1513\u001b[0m     \u001b[0;32mdef\u001b[0m \u001b[0m_call_impl\u001b[0m\u001b[0;34m(\u001b[0m\u001b[0mself\u001b[0m\u001b[0;34m,\u001b[0m \u001b[0;34m*\u001b[0m\u001b[0margs\u001b[0m\u001b[0;34m,\u001b[0m \u001b[0;34m**\u001b[0m\u001b[0mkwargs\u001b[0m\u001b[0;34m)\u001b[0m\u001b[0;34m:\u001b[0m\u001b[0;34m\u001b[0m\u001b[0;34m\u001b[0m\u001b[0m\n",
            "\u001b[0;32m/usr/local/lib/python3.10/dist-packages/torch/nn/modules/module.py\u001b[0m in \u001b[0;36m_call_impl\u001b[0;34m(self, *args, **kwargs)\u001b[0m\n\u001b[1;32m   1518\u001b[0m                 \u001b[0;32mor\u001b[0m \u001b[0m_global_backward_pre_hooks\u001b[0m \u001b[0;32mor\u001b[0m \u001b[0m_global_backward_hooks\u001b[0m\u001b[0;34m\u001b[0m\u001b[0;34m\u001b[0m\u001b[0m\n\u001b[1;32m   1519\u001b[0m                 or _global_forward_hooks or _global_forward_pre_hooks):\n\u001b[0;32m-> 1520\u001b[0;31m             \u001b[0;32mreturn\u001b[0m \u001b[0mforward_call\u001b[0m\u001b[0;34m(\u001b[0m\u001b[0;34m*\u001b[0m\u001b[0margs\u001b[0m\u001b[0;34m,\u001b[0m \u001b[0;34m**\u001b[0m\u001b[0mkwargs\u001b[0m\u001b[0;34m)\u001b[0m\u001b[0;34m\u001b[0m\u001b[0;34m\u001b[0m\u001b[0m\n\u001b[0m\u001b[1;32m   1521\u001b[0m \u001b[0;34m\u001b[0m\u001b[0m\n\u001b[1;32m   1522\u001b[0m         \u001b[0;32mtry\u001b[0m\u001b[0;34m:\u001b[0m\u001b[0;34m\u001b[0m\u001b[0;34m\u001b[0m\u001b[0m\n",
            "\u001b[0;32m/usr/local/lib/python3.10/dist-packages/whisper/model.py\u001b[0m in \u001b[0;36mforward\u001b[0;34m(self, x, xa, kv_cache)\u001b[0m\n\u001b[1;32m    209\u001b[0m \u001b[0;34m\u001b[0m\u001b[0m\n\u001b[1;32m    210\u001b[0m         \u001b[0;32mfor\u001b[0m \u001b[0mblock\u001b[0m \u001b[0;32min\u001b[0m \u001b[0mself\u001b[0m\u001b[0;34m.\u001b[0m\u001b[0mblocks\u001b[0m\u001b[0;34m:\u001b[0m\u001b[0;34m\u001b[0m\u001b[0;34m\u001b[0m\u001b[0m\n\u001b[0;32m--> 211\u001b[0;31m             \u001b[0mx\u001b[0m \u001b[0;34m=\u001b[0m \u001b[0mblock\u001b[0m\u001b[0;34m(\u001b[0m\u001b[0mx\u001b[0m\u001b[0;34m,\u001b[0m \u001b[0mxa\u001b[0m\u001b[0;34m,\u001b[0m \u001b[0mmask\u001b[0m\u001b[0;34m=\u001b[0m\u001b[0mself\u001b[0m\u001b[0;34m.\u001b[0m\u001b[0mmask\u001b[0m\u001b[0;34m,\u001b[0m \u001b[0mkv_cache\u001b[0m\u001b[0;34m=\u001b[0m\u001b[0mkv_cache\u001b[0m\u001b[0;34m)\u001b[0m\u001b[0;34m\u001b[0m\u001b[0;34m\u001b[0m\u001b[0m\n\u001b[0m\u001b[1;32m    212\u001b[0m \u001b[0;34m\u001b[0m\u001b[0m\n\u001b[1;32m    213\u001b[0m         \u001b[0mx\u001b[0m \u001b[0;34m=\u001b[0m \u001b[0mself\u001b[0m\u001b[0;34m.\u001b[0m\u001b[0mln\u001b[0m\u001b[0;34m(\u001b[0m\u001b[0mx\u001b[0m\u001b[0;34m)\u001b[0m\u001b[0;34m\u001b[0m\u001b[0;34m\u001b[0m\u001b[0m\n",
            "\u001b[0;32m/usr/local/lib/python3.10/dist-packages/torch/nn/modules/module.py\u001b[0m in \u001b[0;36m_wrapped_call_impl\u001b[0;34m(self, *args, **kwargs)\u001b[0m\n\u001b[1;32m   1509\u001b[0m             \u001b[0;32mreturn\u001b[0m \u001b[0mself\u001b[0m\u001b[0;34m.\u001b[0m\u001b[0m_compiled_call_impl\u001b[0m\u001b[0;34m(\u001b[0m\u001b[0;34m*\u001b[0m\u001b[0margs\u001b[0m\u001b[0;34m,\u001b[0m \u001b[0;34m**\u001b[0m\u001b[0mkwargs\u001b[0m\u001b[0;34m)\u001b[0m  \u001b[0;31m# type: ignore[misc]\u001b[0m\u001b[0;34m\u001b[0m\u001b[0;34m\u001b[0m\u001b[0m\n\u001b[1;32m   1510\u001b[0m         \u001b[0;32melse\u001b[0m\u001b[0;34m:\u001b[0m\u001b[0;34m\u001b[0m\u001b[0;34m\u001b[0m\u001b[0m\n\u001b[0;32m-> 1511\u001b[0;31m             \u001b[0;32mreturn\u001b[0m \u001b[0mself\u001b[0m\u001b[0;34m.\u001b[0m\u001b[0m_call_impl\u001b[0m\u001b[0;34m(\u001b[0m\u001b[0;34m*\u001b[0m\u001b[0margs\u001b[0m\u001b[0;34m,\u001b[0m \u001b[0;34m**\u001b[0m\u001b[0mkwargs\u001b[0m\u001b[0;34m)\u001b[0m\u001b[0;34m\u001b[0m\u001b[0;34m\u001b[0m\u001b[0m\n\u001b[0m\u001b[1;32m   1512\u001b[0m \u001b[0;34m\u001b[0m\u001b[0m\n\u001b[1;32m   1513\u001b[0m     \u001b[0;32mdef\u001b[0m \u001b[0m_call_impl\u001b[0m\u001b[0;34m(\u001b[0m\u001b[0mself\u001b[0m\u001b[0;34m,\u001b[0m \u001b[0;34m*\u001b[0m\u001b[0margs\u001b[0m\u001b[0;34m,\u001b[0m \u001b[0;34m**\u001b[0m\u001b[0mkwargs\u001b[0m\u001b[0;34m)\u001b[0m\u001b[0;34m:\u001b[0m\u001b[0;34m\u001b[0m\u001b[0;34m\u001b[0m\u001b[0m\n",
            "\u001b[0;32m/usr/local/lib/python3.10/dist-packages/torch/nn/modules/module.py\u001b[0m in \u001b[0;36m_call_impl\u001b[0;34m(self, *args, **kwargs)\u001b[0m\n\u001b[1;32m   1518\u001b[0m                 \u001b[0;32mor\u001b[0m \u001b[0m_global_backward_pre_hooks\u001b[0m \u001b[0;32mor\u001b[0m \u001b[0m_global_backward_hooks\u001b[0m\u001b[0;34m\u001b[0m\u001b[0;34m\u001b[0m\u001b[0m\n\u001b[1;32m   1519\u001b[0m                 or _global_forward_hooks or _global_forward_pre_hooks):\n\u001b[0;32m-> 1520\u001b[0;31m             \u001b[0;32mreturn\u001b[0m \u001b[0mforward_call\u001b[0m\u001b[0;34m(\u001b[0m\u001b[0;34m*\u001b[0m\u001b[0margs\u001b[0m\u001b[0;34m,\u001b[0m \u001b[0;34m**\u001b[0m\u001b[0mkwargs\u001b[0m\u001b[0;34m)\u001b[0m\u001b[0;34m\u001b[0m\u001b[0;34m\u001b[0m\u001b[0m\n\u001b[0m\u001b[1;32m   1521\u001b[0m \u001b[0;34m\u001b[0m\u001b[0m\n\u001b[1;32m   1522\u001b[0m         \u001b[0;32mtry\u001b[0m\u001b[0;34m:\u001b[0m\u001b[0;34m\u001b[0m\u001b[0;34m\u001b[0m\u001b[0m\n",
            "\u001b[0;32m/usr/local/lib/python3.10/dist-packages/whisper/model.py\u001b[0m in \u001b[0;36mforward\u001b[0;34m(self, x, xa, mask, kv_cache)\u001b[0m\n\u001b[1;32m    136\u001b[0m         \u001b[0mx\u001b[0m \u001b[0;34m=\u001b[0m \u001b[0mx\u001b[0m \u001b[0;34m+\u001b[0m \u001b[0mself\u001b[0m\u001b[0;34m.\u001b[0m\u001b[0mattn\u001b[0m\u001b[0;34m(\u001b[0m\u001b[0mself\u001b[0m\u001b[0;34m.\u001b[0m\u001b[0mattn_ln\u001b[0m\u001b[0;34m(\u001b[0m\u001b[0mx\u001b[0m\u001b[0;34m)\u001b[0m\u001b[0;34m,\u001b[0m \u001b[0mmask\u001b[0m\u001b[0;34m=\u001b[0m\u001b[0mmask\u001b[0m\u001b[0;34m,\u001b[0m \u001b[0mkv_cache\u001b[0m\u001b[0;34m=\u001b[0m\u001b[0mkv_cache\u001b[0m\u001b[0;34m)\u001b[0m\u001b[0;34m[\u001b[0m\u001b[0;36m0\u001b[0m\u001b[0;34m]\u001b[0m\u001b[0;34m\u001b[0m\u001b[0;34m\u001b[0m\u001b[0m\n\u001b[1;32m    137\u001b[0m         \u001b[0;32mif\u001b[0m \u001b[0mself\u001b[0m\u001b[0;34m.\u001b[0m\u001b[0mcross_attn\u001b[0m\u001b[0;34m:\u001b[0m\u001b[0;34m\u001b[0m\u001b[0;34m\u001b[0m\u001b[0m\n\u001b[0;32m--> 138\u001b[0;31m             \u001b[0mx\u001b[0m \u001b[0;34m=\u001b[0m \u001b[0mx\u001b[0m \u001b[0;34m+\u001b[0m \u001b[0mself\u001b[0m\u001b[0;34m.\u001b[0m\u001b[0mcross_attn\u001b[0m\u001b[0;34m(\u001b[0m\u001b[0mself\u001b[0m\u001b[0;34m.\u001b[0m\u001b[0mcross_attn_ln\u001b[0m\u001b[0;34m(\u001b[0m\u001b[0mx\u001b[0m\u001b[0;34m)\u001b[0m\u001b[0;34m,\u001b[0m \u001b[0mxa\u001b[0m\u001b[0;34m,\u001b[0m \u001b[0mkv_cache\u001b[0m\u001b[0;34m=\u001b[0m\u001b[0mkv_cache\u001b[0m\u001b[0;34m)\u001b[0m\u001b[0;34m[\u001b[0m\u001b[0;36m0\u001b[0m\u001b[0;34m]\u001b[0m\u001b[0;34m\u001b[0m\u001b[0;34m\u001b[0m\u001b[0m\n\u001b[0m\u001b[1;32m    139\u001b[0m         \u001b[0mx\u001b[0m \u001b[0;34m=\u001b[0m \u001b[0mx\u001b[0m \u001b[0;34m+\u001b[0m \u001b[0mself\u001b[0m\u001b[0;34m.\u001b[0m\u001b[0mmlp\u001b[0m\u001b[0;34m(\u001b[0m\u001b[0mself\u001b[0m\u001b[0;34m.\u001b[0m\u001b[0mmlp_ln\u001b[0m\u001b[0;34m(\u001b[0m\u001b[0mx\u001b[0m\u001b[0;34m)\u001b[0m\u001b[0;34m)\u001b[0m\u001b[0;34m\u001b[0m\u001b[0;34m\u001b[0m\u001b[0m\n\u001b[1;32m    140\u001b[0m         \u001b[0;32mreturn\u001b[0m \u001b[0mx\u001b[0m\u001b[0;34m\u001b[0m\u001b[0;34m\u001b[0m\u001b[0m\n",
            "\u001b[0;32m/usr/local/lib/python3.10/dist-packages/torch/nn/modules/module.py\u001b[0m in \u001b[0;36m_wrapped_call_impl\u001b[0;34m(self, *args, **kwargs)\u001b[0m\n\u001b[1;32m   1509\u001b[0m             \u001b[0;32mreturn\u001b[0m \u001b[0mself\u001b[0m\u001b[0;34m.\u001b[0m\u001b[0m_compiled_call_impl\u001b[0m\u001b[0;34m(\u001b[0m\u001b[0;34m*\u001b[0m\u001b[0margs\u001b[0m\u001b[0;34m,\u001b[0m \u001b[0;34m**\u001b[0m\u001b[0mkwargs\u001b[0m\u001b[0;34m)\u001b[0m  \u001b[0;31m# type: ignore[misc]\u001b[0m\u001b[0;34m\u001b[0m\u001b[0;34m\u001b[0m\u001b[0m\n\u001b[1;32m   1510\u001b[0m         \u001b[0;32melse\u001b[0m\u001b[0;34m:\u001b[0m\u001b[0;34m\u001b[0m\u001b[0;34m\u001b[0m\u001b[0m\n\u001b[0;32m-> 1511\u001b[0;31m             \u001b[0;32mreturn\u001b[0m \u001b[0mself\u001b[0m\u001b[0;34m.\u001b[0m\u001b[0m_call_impl\u001b[0m\u001b[0;34m(\u001b[0m\u001b[0;34m*\u001b[0m\u001b[0margs\u001b[0m\u001b[0;34m,\u001b[0m \u001b[0;34m**\u001b[0m\u001b[0mkwargs\u001b[0m\u001b[0;34m)\u001b[0m\u001b[0;34m\u001b[0m\u001b[0;34m\u001b[0m\u001b[0m\n\u001b[0m\u001b[1;32m   1512\u001b[0m \u001b[0;34m\u001b[0m\u001b[0m\n\u001b[1;32m   1513\u001b[0m     \u001b[0;32mdef\u001b[0m \u001b[0m_call_impl\u001b[0m\u001b[0;34m(\u001b[0m\u001b[0mself\u001b[0m\u001b[0;34m,\u001b[0m \u001b[0;34m*\u001b[0m\u001b[0margs\u001b[0m\u001b[0;34m,\u001b[0m \u001b[0;34m**\u001b[0m\u001b[0mkwargs\u001b[0m\u001b[0;34m)\u001b[0m\u001b[0;34m:\u001b[0m\u001b[0;34m\u001b[0m\u001b[0;34m\u001b[0m\u001b[0m\n",
            "\u001b[0;32m/usr/local/lib/python3.10/dist-packages/torch/nn/modules/module.py\u001b[0m in \u001b[0;36m_call_impl\u001b[0;34m(self, *args, **kwargs)\u001b[0m\n\u001b[1;32m   1518\u001b[0m                 \u001b[0;32mor\u001b[0m \u001b[0m_global_backward_pre_hooks\u001b[0m \u001b[0;32mor\u001b[0m \u001b[0m_global_backward_hooks\u001b[0m\u001b[0;34m\u001b[0m\u001b[0;34m\u001b[0m\u001b[0m\n\u001b[1;32m   1519\u001b[0m                 or _global_forward_hooks or _global_forward_pre_hooks):\n\u001b[0;32m-> 1520\u001b[0;31m             \u001b[0;32mreturn\u001b[0m \u001b[0mforward_call\u001b[0m\u001b[0;34m(\u001b[0m\u001b[0;34m*\u001b[0m\u001b[0margs\u001b[0m\u001b[0;34m,\u001b[0m \u001b[0;34m**\u001b[0m\u001b[0mkwargs\u001b[0m\u001b[0;34m)\u001b[0m\u001b[0;34m\u001b[0m\u001b[0;34m\u001b[0m\u001b[0m\n\u001b[0m\u001b[1;32m   1521\u001b[0m \u001b[0;34m\u001b[0m\u001b[0m\n\u001b[1;32m   1522\u001b[0m         \u001b[0;32mtry\u001b[0m\u001b[0;34m:\u001b[0m\u001b[0;34m\u001b[0m\u001b[0;34m\u001b[0m\u001b[0m\n",
            "\u001b[0;32m/usr/local/lib/python3.10/dist-packages/whisper/model.py\u001b[0m in \u001b[0;36mforward\u001b[0;34m(self, x, xa, mask, kv_cache)\u001b[0m\n\u001b[1;32m     89\u001b[0m \u001b[0;34m\u001b[0m\u001b[0m\n\u001b[1;32m     90\u001b[0m         \u001b[0mwv\u001b[0m\u001b[0;34m,\u001b[0m \u001b[0mqk\u001b[0m \u001b[0;34m=\u001b[0m \u001b[0mself\u001b[0m\u001b[0;34m.\u001b[0m\u001b[0mqkv_attention\u001b[0m\u001b[0;34m(\u001b[0m\u001b[0mq\u001b[0m\u001b[0;34m,\u001b[0m \u001b[0mk\u001b[0m\u001b[0;34m,\u001b[0m \u001b[0mv\u001b[0m\u001b[0;34m,\u001b[0m \u001b[0mmask\u001b[0m\u001b[0;34m)\u001b[0m\u001b[0;34m\u001b[0m\u001b[0;34m\u001b[0m\u001b[0m\n\u001b[0;32m---> 91\u001b[0;31m         \u001b[0;32mreturn\u001b[0m \u001b[0mself\u001b[0m\u001b[0;34m.\u001b[0m\u001b[0mout\u001b[0m\u001b[0;34m(\u001b[0m\u001b[0mwv\u001b[0m\u001b[0;34m)\u001b[0m\u001b[0;34m,\u001b[0m \u001b[0mqk\u001b[0m\u001b[0;34m\u001b[0m\u001b[0;34m\u001b[0m\u001b[0m\n\u001b[0m\u001b[1;32m     92\u001b[0m \u001b[0;34m\u001b[0m\u001b[0m\n\u001b[1;32m     93\u001b[0m     def qkv_attention(\n",
            "\u001b[0;32m/usr/local/lib/python3.10/dist-packages/torch/nn/modules/module.py\u001b[0m in \u001b[0;36m_wrapped_call_impl\u001b[0;34m(self, *args, **kwargs)\u001b[0m\n\u001b[1;32m   1509\u001b[0m             \u001b[0;32mreturn\u001b[0m \u001b[0mself\u001b[0m\u001b[0;34m.\u001b[0m\u001b[0m_compiled_call_impl\u001b[0m\u001b[0;34m(\u001b[0m\u001b[0;34m*\u001b[0m\u001b[0margs\u001b[0m\u001b[0;34m,\u001b[0m \u001b[0;34m**\u001b[0m\u001b[0mkwargs\u001b[0m\u001b[0;34m)\u001b[0m  \u001b[0;31m# type: ignore[misc]\u001b[0m\u001b[0;34m\u001b[0m\u001b[0;34m\u001b[0m\u001b[0m\n\u001b[1;32m   1510\u001b[0m         \u001b[0;32melse\u001b[0m\u001b[0;34m:\u001b[0m\u001b[0;34m\u001b[0m\u001b[0;34m\u001b[0m\u001b[0m\n\u001b[0;32m-> 1511\u001b[0;31m             \u001b[0;32mreturn\u001b[0m \u001b[0mself\u001b[0m\u001b[0;34m.\u001b[0m\u001b[0m_call_impl\u001b[0m\u001b[0;34m(\u001b[0m\u001b[0;34m*\u001b[0m\u001b[0margs\u001b[0m\u001b[0;34m,\u001b[0m \u001b[0;34m**\u001b[0m\u001b[0mkwargs\u001b[0m\u001b[0;34m)\u001b[0m\u001b[0;34m\u001b[0m\u001b[0;34m\u001b[0m\u001b[0m\n\u001b[0m\u001b[1;32m   1512\u001b[0m \u001b[0;34m\u001b[0m\u001b[0m\n\u001b[1;32m   1513\u001b[0m     \u001b[0;32mdef\u001b[0m \u001b[0m_call_impl\u001b[0m\u001b[0;34m(\u001b[0m\u001b[0mself\u001b[0m\u001b[0;34m,\u001b[0m \u001b[0;34m*\u001b[0m\u001b[0margs\u001b[0m\u001b[0;34m,\u001b[0m \u001b[0;34m**\u001b[0m\u001b[0mkwargs\u001b[0m\u001b[0;34m)\u001b[0m\u001b[0;34m:\u001b[0m\u001b[0;34m\u001b[0m\u001b[0;34m\u001b[0m\u001b[0m\n",
            "\u001b[0;32m/usr/local/lib/python3.10/dist-packages/torch/nn/modules/module.py\u001b[0m in \u001b[0;36m_call_impl\u001b[0;34m(self, *args, **kwargs)\u001b[0m\n\u001b[1;32m   1518\u001b[0m                 \u001b[0;32mor\u001b[0m \u001b[0m_global_backward_pre_hooks\u001b[0m \u001b[0;32mor\u001b[0m \u001b[0m_global_backward_hooks\u001b[0m\u001b[0;34m\u001b[0m\u001b[0;34m\u001b[0m\u001b[0m\n\u001b[1;32m   1519\u001b[0m                 or _global_forward_hooks or _global_forward_pre_hooks):\n\u001b[0;32m-> 1520\u001b[0;31m             \u001b[0;32mreturn\u001b[0m \u001b[0mforward_call\u001b[0m\u001b[0;34m(\u001b[0m\u001b[0;34m*\u001b[0m\u001b[0margs\u001b[0m\u001b[0;34m,\u001b[0m \u001b[0;34m**\u001b[0m\u001b[0mkwargs\u001b[0m\u001b[0;34m)\u001b[0m\u001b[0;34m\u001b[0m\u001b[0;34m\u001b[0m\u001b[0m\n\u001b[0m\u001b[1;32m   1521\u001b[0m \u001b[0;34m\u001b[0m\u001b[0m\n\u001b[1;32m   1522\u001b[0m         \u001b[0;32mtry\u001b[0m\u001b[0;34m:\u001b[0m\u001b[0;34m\u001b[0m\u001b[0;34m\u001b[0m\u001b[0m\n",
            "\u001b[0;32m/usr/local/lib/python3.10/dist-packages/whisper/model.py\u001b[0m in \u001b[0;36mforward\u001b[0;34m(self, x)\u001b[0m\n\u001b[1;32m     35\u001b[0m \u001b[0;32mclass\u001b[0m \u001b[0mLinear\u001b[0m\u001b[0;34m(\u001b[0m\u001b[0mnn\u001b[0m\u001b[0;34m.\u001b[0m\u001b[0mLinear\u001b[0m\u001b[0;34m)\u001b[0m\u001b[0;34m:\u001b[0m\u001b[0;34m\u001b[0m\u001b[0;34m\u001b[0m\u001b[0m\n\u001b[1;32m     36\u001b[0m     \u001b[0;32mdef\u001b[0m \u001b[0mforward\u001b[0m\u001b[0;34m(\u001b[0m\u001b[0mself\u001b[0m\u001b[0;34m,\u001b[0m \u001b[0mx\u001b[0m\u001b[0;34m:\u001b[0m \u001b[0mTensor\u001b[0m\u001b[0;34m)\u001b[0m \u001b[0;34m->\u001b[0m \u001b[0mTensor\u001b[0m\u001b[0;34m:\u001b[0m\u001b[0;34m\u001b[0m\u001b[0;34m\u001b[0m\u001b[0m\n\u001b[0;32m---> 37\u001b[0;31m         return F.linear(\n\u001b[0m\u001b[1;32m     38\u001b[0m             \u001b[0mx\u001b[0m\u001b[0;34m,\u001b[0m\u001b[0;34m\u001b[0m\u001b[0;34m\u001b[0m\u001b[0m\n\u001b[1;32m     39\u001b[0m             \u001b[0mself\u001b[0m\u001b[0;34m.\u001b[0m\u001b[0mweight\u001b[0m\u001b[0;34m.\u001b[0m\u001b[0mto\u001b[0m\u001b[0;34m(\u001b[0m\u001b[0mx\u001b[0m\u001b[0;34m.\u001b[0m\u001b[0mdtype\u001b[0m\u001b[0;34m)\u001b[0m\u001b[0;34m,\u001b[0m\u001b[0;34m\u001b[0m\u001b[0;34m\u001b[0m\u001b[0m\n",
            "\u001b[0;31mKeyboardInterrupt\u001b[0m: "
          ]
        }
      ]
    },
    {
      "cell_type": "code",
      "source": [
        "import glob\n",
        "from asr_evaluation import get_error_rate\n",
        "\n",
        "directory = '/content/drive/MyDrive/Audio/'\n",
        "\n",
        "# Define the pattern to search for MP3 files\n",
        "pattern = '*.mp3'\n",
        "\n",
        "# Use glob to find MP3 files\n",
        "mp3_files = glob.glob(directory + '**/' + pattern, recursive=True)\n",
        "\n",
        "# Open a text file to write results\n",
        "with open('/content/drive/MyDrive/GroundTruth/WERresult.txt', 'w') as file:\n",
        "    # Iterate over each MP3 file\n",
        "    i = 0\n",
        "    for mp3_file in mp3_files:\n",
        "        # Assuming \"model\" is defined elsewhere\n",
        "        result = model.transcribe(mp3_file, language='hi')\n",
        "\n",
        "        # Extract filename from the path\n",
        "        filename = mp3_file.split('/')[-1].split('.')[0]\n",
        "\n",
        "        # Read the ground truth text file\n",
        "        ground_truth_file = f'/content/drive/MyDrive/ResultText3.txt'  # Change path accordingly\n",
        "        with open(ground_truth_file, 'r') as f:\n",
        "            ground_truth = f.read()\n",
        "\n",
        "        # Calculate WER using asr-evaluation\n",
        "        wer = get_error_rate(ground_truth, result[\"text\"])\n",
        "\n",
        "        # Write results to file\n",
        "        file.write(mp3_file + ': ' + result[\"text\"] + '\\n')\n",
        "        file.write('WER: ' + str(wer) + '\\n\\n')\n",
        "\n",
        "        i += 1\n",
        "        if i == 50:\n",
        "            break\n"
      ],
      "metadata": {
        "id": "AYwA5IheY0TH",
        "outputId": "be89dcd4-a05c-4eab-b3ec-1c499366ac75",
        "colab": {
          "base_uri": "https://localhost:8080/",
          "height": 401
        }
      },
      "execution_count": 12,
      "outputs": [
        {
          "output_type": "error",
          "ename": "ImportError",
          "evalue": "cannot import name 'get_error_rate' from 'asr_evaluation' (/usr/local/lib/python3.10/dist-packages/asr_evaluation/__init__.py)",
          "traceback": [
            "\u001b[0;31m---------------------------------------------------------------------------\u001b[0m",
            "\u001b[0;31mImportError\u001b[0m                               Traceback (most recent call last)",
            "\u001b[0;32m<ipython-input-12-e2ca4a1967ad>\u001b[0m in \u001b[0;36m<cell line: 2>\u001b[0;34m()\u001b[0m\n\u001b[1;32m      1\u001b[0m \u001b[0;32mimport\u001b[0m \u001b[0mglob\u001b[0m\u001b[0;34m\u001b[0m\u001b[0;34m\u001b[0m\u001b[0m\n\u001b[0;32m----> 2\u001b[0;31m \u001b[0;32mfrom\u001b[0m \u001b[0masr_evaluation\u001b[0m \u001b[0;32mimport\u001b[0m \u001b[0mget_error_rate\u001b[0m\u001b[0;34m\u001b[0m\u001b[0;34m\u001b[0m\u001b[0m\n\u001b[0m\u001b[1;32m      3\u001b[0m \u001b[0;34m\u001b[0m\u001b[0m\n\u001b[1;32m      4\u001b[0m \u001b[0mdirectory\u001b[0m \u001b[0;34m=\u001b[0m \u001b[0;34m'/content/drive/MyDrive/Audio/'\u001b[0m\u001b[0;34m\u001b[0m\u001b[0;34m\u001b[0m\u001b[0m\n\u001b[1;32m      5\u001b[0m \u001b[0;34m\u001b[0m\u001b[0m\n",
            "\u001b[0;31mImportError\u001b[0m: cannot import name 'get_error_rate' from 'asr_evaluation' (/usr/local/lib/python3.10/dist-packages/asr_evaluation/__init__.py)",
            "",
            "\u001b[0;31m---------------------------------------------------------------------------\u001b[0;32m\nNOTE: If your import is failing due to a missing package, you can\nmanually install dependencies using either !pip or !apt.\n\nTo view examples of installing some common dependencies, click the\n\"Open Examples\" button below.\n\u001b[0;31m---------------------------------------------------------------------------\u001b[0m\n"
          ],
          "errorDetails": {
            "actions": [
              {
                "action": "open_url",
                "actionText": "Open Examples",
                "url": "/notebooks/snippets/importing_libraries.ipynb"
              }
            ]
          }
        }
      ]
    }
  ]
}