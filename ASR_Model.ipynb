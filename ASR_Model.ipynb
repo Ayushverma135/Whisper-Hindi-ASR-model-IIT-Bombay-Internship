{
  "nbformat": 4,
  "nbformat_minor": 0,
  "metadata": {
    "colab": {
      "provenance": [],
      "gpuType": "T4",
      "mount_file_id": "1z2zOXKrlYLmqiQBkAcw9u5GSkGUQCb8x",
      "authorship_tag": "ABX9TyPYt3CI18vnktQz+OmaxsNO",
      "include_colab_link": true
    },
    "kernelspec": {
      "name": "python3",
      "display_name": "Python 3"
    },
    "language_info": {
      "name": "python"
    },
    "accelerator": "GPU"
  },
  "cells": [
    {
      "cell_type": "markdown",
      "metadata": {
        "id": "view-in-github",
        "colab_type": "text"
      },
      "source": [
        "<a href=\"https://colab.research.google.com/github/Ayushverma135/Whisper-Hindi-ASR-model-IIT-Bombay-Intership/blob/main/ASR_Model.ipynb\" target=\"_parent\"><img src=\"https://colab.research.google.com/assets/colab-badge.svg\" alt=\"Open In Colab\"/></a>"
      ]
    },
    {
      "cell_type": "markdown",
      "source": [
        "# Check GPU"
      ],
      "metadata": {
        "id": "vYHHQznz9s1u"
      }
    },
    {
      "cell_type": "code",
      "execution_count": null,
      "metadata": {
        "colab": {
          "base_uri": "https://localhost:8080/"
        },
        "id": "mVO725vduqjO",
        "outputId": "e25ef978-549d-44d9-af05-c469b5179599"
      },
      "outputs": [
        {
          "output_type": "stream",
          "name": "stdout",
          "text": [
            "Sat Apr 20 18:18:33 2024       \n",
            "+---------------------------------------------------------------------------------------+\n",
            "| NVIDIA-SMI 535.104.05             Driver Version: 535.104.05   CUDA Version: 12.2     |\n",
            "|-----------------------------------------+----------------------+----------------------+\n",
            "| GPU  Name                 Persistence-M | Bus-Id        Disp.A | Volatile Uncorr. ECC |\n",
            "| Fan  Temp   Perf          Pwr:Usage/Cap |         Memory-Usage | GPU-Util  Compute M. |\n",
            "|                                         |                      |               MIG M. |\n",
            "|=========================================+======================+======================|\n",
            "|   0  Tesla T4                       Off | 00000000:00:04.0 Off |                    0 |\n",
            "| N/A   34C    P8               9W /  70W |      0MiB / 15360MiB |      0%      Default |\n",
            "|                                         |                      |                  N/A |\n",
            "+-----------------------------------------+----------------------+----------------------+\n",
            "                                                                                         \n",
            "+---------------------------------------------------------------------------------------+\n",
            "| Processes:                                                                            |\n",
            "|  GPU   GI   CI        PID   Type   Process name                            GPU Memory |\n",
            "|        ID   ID                                                             Usage      |\n",
            "|=======================================================================================|\n",
            "|  No running processes found                                                           |\n",
            "+---------------------------------------------------------------------------------------+\n"
          ]
        }
      ],
      "source": [
        "!nvidia-smi"
      ]
    },
    {
      "cell_type": "markdown",
      "source": [
        "# Installing whisper"
      ],
      "metadata": {
        "id": "krGlb_zau8nj"
      }
    },
    {
      "cell_type": "code",
      "source": [
        "! pip install git+https://github.com/openai/whisper.git -q"
      ],
      "metadata": {
        "colab": {
          "base_uri": "https://localhost:8080/"
        },
        "id": "BwTijVXevG0I",
        "outputId": "f3ceea29-1391-4ece-8e52-419f46d83df7"
      },
      "execution_count": null,
      "outputs": [
        {
          "output_type": "stream",
          "name": "stdout",
          "text": [
            "  Installing build dependencies ... \u001b[?25l\u001b[?25hdone\n",
            "  Getting requirements to build wheel ... \u001b[?25l\u001b[?25hdone\n",
            "  Preparing metadata (pyproject.toml) ... \u001b[?25l\u001b[?25hdone\n",
            "\u001b[2K     \u001b[90m━━━━━━━━━━━━━━━━━━━━━━━━━━━━━━━━━━━━━━━━\u001b[0m \u001b[32m1.8/1.8 MB\u001b[0m \u001b[31m13.4 MB/s\u001b[0m eta \u001b[36m0:00:00\u001b[0m\n",
            "\u001b[?25h  Building wheel for openai-whisper (pyproject.toml) ... \u001b[?25l\u001b[?25hdone\n"
          ]
        }
      ]
    },
    {
      "cell_type": "markdown",
      "source": [
        "# Load and Import Library and Model"
      ],
      "metadata": {
        "id": "RceAndFR-UN_"
      }
    },
    {
      "cell_type": "code",
      "source": [
        "import whisper\n",
        "model = whisper.load_model(\"large\") #769M Parameter"
      ],
      "metadata": {
        "colab": {
          "base_uri": "https://localhost:8080/"
        },
        "id": "k0r3rttfvTZG",
        "outputId": "50e398b9-f7d1-4726-cba7-debe26e95429"
      },
      "execution_count": null,
      "outputs": [
        {
          "output_type": "stream",
          "name": "stderr",
          "text": [
            "100%|█████████████████████████████████████| 2.88G/2.88G [00:57<00:00, 54.1MiB/s]\n"
          ]
        }
      ]
    },
    {
      "cell_type": "markdown",
      "source": [
        "# Display the Audio"
      ],
      "metadata": {
        "id": "2JVOFm2K-cV_"
      }
    },
    {
      "cell_type": "code",
      "source": [
        "from IPython.display import Audio, display\n",
        "\n",
        "display(Audio('01-04397-02.mp3', autoplay=True))"
      ],
      "metadata": {
        "colab": {
          "base_uri": "https://localhost:8080/",
          "height": 75
        },
        "id": "v1sovaY9vjhE",
        "outputId": "fe1196b8-b8a8-46bf-bc50-ca729cdf6b7c"
      },
      "execution_count": null,
      "outputs": [
        {
          "output_type": "display_data",
          "data": {
            "text/plain": [
              "<IPython.lib.display.Audio object>"
            ],
            "text/html": [
              "\n",
              "                <audio  controls=\"controls\" autoplay=\"autoplay\">\n",
              "                    <source src=\"data:audio/mpeg;base64,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\" type=\"audio/mpeg\" />\n",
              "                    Your browser does not support the audio element.\n",
              "                </audio>\n",
              "              "
            ]
          },
          "metadata": {}
        }
      ]
    },
    {
      "cell_type": "markdown",
      "source": [
        "# Transcribing into text"
      ],
      "metadata": {
        "id": "TRpeqw73ASri"
      }
    },
    {
      "cell_type": "code",
      "source": [
        "result = model.transcribe(\"01-04397-02.mp3\",language='hi')\n",
        "print(result[\"text\"])"
      ],
      "metadata": {
        "id": "gEwwNWn0v7GJ",
        "colab": {
          "base_uri": "https://localhost:8080/"
        },
        "outputId": "946b927a-03b4-4fd0-cda5-ca0f308e7875"
      },
      "execution_count": null,
      "outputs": [
        {
          "output_type": "stream",
          "name": "stdout",
          "text": [
            " देमानी और भ्रताचारी की वज़न से जर्ण पतिनी भी अधिकारी वो विचोईय माला माल हो रहे हैं।\n"
          ]
        }
      ]
    },
    {
      "cell_type": "code",
      "source": [
        "!pip install SpeechRecognition"
      ],
      "metadata": {
        "colab": {
          "base_uri": "https://localhost:8080/"
        },
        "id": "YIFeryxRAou9",
        "outputId": "a8e0d9ee-dd0e-4999-aee3-e6f4e70a4331"
      },
      "execution_count": null,
      "outputs": [
        {
          "output_type": "stream",
          "name": "stdout",
          "text": [
            "Collecting SpeechRecognition\n",
            "  Downloading SpeechRecognition-3.10.3-py2.py3-none-any.whl (32.8 MB)\n",
            "\u001b[2K     \u001b[90m━━━━━━━━━━━━━━━━━━━━━━━━━━━━━━━━━━━━━━━━\u001b[0m \u001b[32m32.8/32.8 MB\u001b[0m \u001b[31m36.2 MB/s\u001b[0m eta \u001b[36m0:00:00\u001b[0m\n",
            "\u001b[?25hRequirement already satisfied: requests>=2.26.0 in /usr/local/lib/python3.10/dist-packages (from SpeechRecognition) (2.31.0)\n",
            "Requirement already satisfied: typing-extensions in /usr/local/lib/python3.10/dist-packages (from SpeechRecognition) (4.11.0)\n",
            "Requirement already satisfied: charset-normalizer<4,>=2 in /usr/local/lib/python3.10/dist-packages (from requests>=2.26.0->SpeechRecognition) (3.3.2)\n",
            "Requirement already satisfied: idna<4,>=2.5 in /usr/local/lib/python3.10/dist-packages (from requests>=2.26.0->SpeechRecognition) (3.7)\n",
            "Requirement already satisfied: urllib3<3,>=1.21.1 in /usr/local/lib/python3.10/dist-packages (from requests>=2.26.0->SpeechRecognition) (2.0.7)\n",
            "Requirement already satisfied: certifi>=2017.4.17 in /usr/local/lib/python3.10/dist-packages (from requests>=2.26.0->SpeechRecognition) (2024.2.2)\n",
            "Installing collected packages: SpeechRecognition\n",
            "Successfully installed SpeechRecognition-3.10.3\n"
          ]
        }
      ]
    },
    {
      "cell_type": "code",
      "source": [
        "!pip install ffmpeg-python"
      ],
      "metadata": {
        "colab": {
          "base_uri": "https://localhost:8080/"
        },
        "id": "KJrXN6GxF0r5",
        "outputId": "e6e77ad9-d51a-42bd-b17c-8b23fd01438c"
      },
      "execution_count": null,
      "outputs": [
        {
          "output_type": "stream",
          "name": "stdout",
          "text": [
            "Collecting ffmpeg-python\n",
            "  Downloading ffmpeg_python-0.2.0-py3-none-any.whl (25 kB)\n",
            "Requirement already satisfied: future in /usr/local/lib/python3.10/dist-packages (from ffmpeg-python) (0.18.3)\n",
            "Installing collected packages: ffmpeg-python\n",
            "Successfully installed ffmpeg-python-0.2.0\n"
          ]
        }
      ]
    },
    {
      "cell_type": "code",
      "source": [
        "!pip install jiwer"
      ],
      "metadata": {
        "colab": {
          "base_uri": "https://localhost:8080/"
        },
        "id": "7bTohgWpVTXd",
        "outputId": "19ca3961-f53b-485a-d616-c0df6b951f95"
      },
      "execution_count": null,
      "outputs": [
        {
          "output_type": "stream",
          "name": "stdout",
          "text": [
            "Collecting jiwer\n",
            "  Downloading jiwer-3.0.3-py3-none-any.whl (21 kB)\n",
            "Requirement already satisfied: click<9.0.0,>=8.1.3 in /usr/local/lib/python3.10/dist-packages (from jiwer) (8.1.7)\n",
            "Collecting rapidfuzz<4,>=3 (from jiwer)\n",
            "  Downloading rapidfuzz-3.8.1-cp310-cp310-manylinux_2_17_x86_64.manylinux2014_x86_64.whl (3.4 MB)\n",
            "\u001b[2K     \u001b[90m━━━━━━━━━━━━━━━━━━━━━━━━━━━━━━━━━━━━━━━━\u001b[0m \u001b[32m3.4/3.4 MB\u001b[0m \u001b[31m18.4 MB/s\u001b[0m eta \u001b[36m0:00:00\u001b[0m\n",
            "\u001b[?25hInstalling collected packages: rapidfuzz, jiwer\n",
            "Successfully installed jiwer-3.0.3 rapidfuzz-3.8.1\n"
          ]
        }
      ]
    },
    {
      "cell_type": "markdown",
      "source": [
        "# Load and Display all the Audios from the drive"
      ],
      "metadata": {
        "id": "w2AaAQt3AYWD"
      }
    },
    {
      "cell_type": "code",
      "source": [
        "import os\n",
        "import speech_recognition as sr\n",
        "import ffmpeg\n",
        "from jiwer import wer\n",
        "# Function to recognize speech from an audio file\n",
        "def recognize_speech(audio_file):\n",
        "    # recognizer = sr.Recognizer()\n",
        "    # with sr.AudioFile(audio_file) as source:\n",
        "    #     audio_data = recognizer.record(source)\n",
        "    wav_audio_file = audio_file.split('.')[0] + '.wav'\n",
        "    ffmpeg.input(audio_file).output(wav_audio_file).run(overwrite_output=True)\n",
        "\n",
        "    # Read the WAV audio file\n",
        "    with open(wav_audio_file, 'rb') as f:\n",
        "        audio_data = f.read()\n",
        "    # with open(audio_file, 'rb') as f:\n",
        "    #     audio_data = f.read()\n",
        "    # result = model.transcribe(\"audio_file\",language='hi')\n",
        "    # return result[\"text\"]\n",
        "    try:\n",
        "        text = recognizer.recognize_google(audio_data, language='hi-IN')\n",
        "        return text\n",
        "    except sr.UnknownValueError:\n",
        "        return \"Google Speech Recognition could not understand the audio\"\n",
        "    except sr.RequestError as e:\n",
        "        return \"Could not request results from Google Speech Recognition service; {0}\".format(e)\n",
        "\n",
        "# Path to the folder containing audio files\n",
        "folder_path = '/content/drive/MyDrive/Audio'\n",
        "\n",
        "# Open a text file to write the output\n",
        "output_file_path = '/content/drive/MyDrive/ResultText3.txt'\n",
        "# with open(output_file_path, 'w') as output_file:\n",
        "#     # Loop through all files in the folder\n",
        "#     for filename in os.listdir(folder_path):\n",
        "#         if filename.endswith('.mp3'):  # Check if the file is an MP3 file\n",
        "#             file_path = os.path.join(folder_path, filename)\n",
        "#             # Convert MP3 to WAV format using ffmpeg\n",
        "#             wav_file_path = os.path.splitext(file_path)[0] + '.wav'\n",
        "#             ffmpeg.input(file_path).output(wav_file_path).run(overwrite_output=True)\n",
        "#             # Recognize speech from the audio file\n",
        "\n",
        "#             recognized_text = recognize_speech(wav_file_path)\n",
        "\n",
        "#             # Write the recognized text to the output file\n",
        "#             output_file.write(f\"File: {filename}\\n\")\n",
        "#             output_file.write(f\"Recognized Text: {recognized_text}\\n\\n\")\n",
        "#             # Remove the temporary WAV file\n",
        "#             os.remove(wav_file_path)\n",
        "\n",
        "with open(output_file_path, 'w') as output_file:\n",
        "    # Initialize variables for WER calculation\n",
        "    total_words = 0\n",
        "    total_errors = 0\n",
        "    i=0\n",
        "    # Loop through all files in the folder\n",
        "    for filename in os.listdir(folder_path):\n",
        "        if filename.endswith('.mp3'):  # Check if the file is an MP3 file\n",
        "            file_path = os.path.join(folder_path, filename)\n",
        "            # Convert MP3 to WAV format using ffmpeg\n",
        "            # wav_file_path = os.path.splitext(file_path)[0] + '.wav'\n",
        "            # ffmpeg.input(file_path).output(wav_file_path).run(overwrite_output=True)\n",
        "            # Recognize speech from the audio file\n",
        "            # recognized_text = recognize_speech(wav_file_path)\n",
        "            recognized_text = recognize_speech(file_path)\n",
        "            # Load ground truth transcription\n",
        "            ground_truth_file = os.path.splitext(file_path)[0] + '.txt'\n",
        "            with open(ground_truth_file, 'r', encoding='utf-8') as f:\n",
        "                ground_truth_text = f.read().strip()\n",
        "            # Calculate WER\n",
        "            current_wer = wer(ground_truth_text, recognized_text)\n",
        "            # Write the recognized text, ground truth, and WER to the output file\n",
        "            output_file.write(f\"File: {filename}\\n\")\n",
        "            output_file.write(f\"Recognized Text: {recognized_text}\\n\")\n",
        "            output_file.write(f\"Ground Truth: {ground_truth_text}\\n\")\n",
        "            output_file.write(f\"Word Error Rate: {current_wer}\\n\\n\")\n",
        "            # Update WER variables\n",
        "            total_words += len(ground_truth_text.split())\n",
        "            total_errors += current_wer * len(ground_truth_text.split())\n",
        "            # Remove the temporary WAV file\n",
        "            # os.remove(wav_file_path)\n",
        "            i+=1\n",
        "            if(i==100):\n",
        "              break\n",
        "\n",
        "    # Calculate overall WER\n",
        "    overall_wer = total_errors / total_words\n",
        "    # Write overall WER to the output file\n",
        "    output_file.write(f\"Overall Word Error Rate: {overall_wer}\\n\")"
      ],
      "metadata": {
        "colab": {
          "base_uri": "https://localhost:8080/",
          "height": 825
        },
        "id": "vvL0oBtMJiFD",
        "outputId": "9032f212-7299-4959-d3ec-ea18c9d88672"
      },
      "execution_count": null,
      "outputs": [
        {
          "output_type": "error",
          "ename": "RuntimeError",
          "evalue": "Failed to load audio: ffmpeg version 4.4.2-0ubuntu0.22.04.1 Copyright (c) 2000-2021 the FFmpeg developers\n  built with gcc 11 (Ubuntu 11.2.0-19ubuntu1)\n  configuration: --prefix=/usr --extra-version=0ubuntu0.22.04.1 --toolchain=hardened --libdir=/usr/lib/x86_64-linux-gnu --incdir=/usr/include/x86_64-linux-gnu --arch=amd64 --enable-gpl --disable-stripping --enable-gnutls --enable-ladspa --enable-libaom --enable-libass --enable-libbluray --enable-libbs2b --enable-libcaca --enable-libcdio --enable-libcodec2 --enable-libdav1d --enable-libflite --enable-libfontconfig --enable-libfreetype --enable-libfribidi --enable-libgme --enable-libgsm --enable-libjack --enable-libmp3lame --enable-libmysofa --enable-libopenjpeg --enable-libopenmpt --enable-libopus --enable-libpulse --enable-librabbitmq --enable-librubberband --enable-libshine --enable-libsnappy --enable-libsoxr --enable-libspeex --enable-libsrt --enable-libssh --enable-libtheora --enable-libtwolame --enable-libvidstab --enable-libvorbis --enable-libvpx --enable-libwebp --enable-libx265 --enable-libxml2 --enable-libxvid --enable-libzimg --enable-libzmq --enable-libzvbi --enable-lv2 --enable-omx --enable-openal --enable-opencl --enable-opengl --enable-sdl2 --enable-pocketsphinx --enable-librsvg --enable-libmfx --enable-libdc1394 --enable-libdrm --enable-libiec61883 --enable-chromaprint --enable-frei0r --enable-libx264 --enable-shared\n  libavutil      56. 70.100 / 56. 70.100\n  libavcodec     58.134.100 / 58.134.100\n  libavformat    58. 76.100 / 58. 76.100\n  libavdevice    58. 13.100 / 58. 13.100\n  libavfilter     7.110.100 /  7.110.100\n  libswscale      5.  9.100 /  5.  9.100\n  libswresample   3.  9.100 /  3.  9.100\n  libpostproc    55.  9.100 / 55.  9.100\naudio_file: No such file or directory\n",
          "traceback": [
            "\u001b[0;31m---------------------------------------------------------------------------\u001b[0m",
            "\u001b[0;31mCalledProcessError\u001b[0m                        Traceback (most recent call last)",
            "\u001b[0;32m/usr/local/lib/python3.10/dist-packages/whisper/audio.py\u001b[0m in \u001b[0;36mload_audio\u001b[0;34m(file, sr)\u001b[0m\n\u001b[1;32m     57\u001b[0m     \u001b[0;32mtry\u001b[0m\u001b[0;34m:\u001b[0m\u001b[0;34m\u001b[0m\u001b[0;34m\u001b[0m\u001b[0m\n\u001b[0;32m---> 58\u001b[0;31m         \u001b[0mout\u001b[0m \u001b[0;34m=\u001b[0m \u001b[0mrun\u001b[0m\u001b[0;34m(\u001b[0m\u001b[0mcmd\u001b[0m\u001b[0;34m,\u001b[0m \u001b[0mcapture_output\u001b[0m\u001b[0;34m=\u001b[0m\u001b[0;32mTrue\u001b[0m\u001b[0;34m,\u001b[0m \u001b[0mcheck\u001b[0m\u001b[0;34m=\u001b[0m\u001b[0;32mTrue\u001b[0m\u001b[0;34m)\u001b[0m\u001b[0;34m.\u001b[0m\u001b[0mstdout\u001b[0m\u001b[0;34m\u001b[0m\u001b[0;34m\u001b[0m\u001b[0m\n\u001b[0m\u001b[1;32m     59\u001b[0m     \u001b[0;32mexcept\u001b[0m \u001b[0mCalledProcessError\u001b[0m \u001b[0;32mas\u001b[0m \u001b[0me\u001b[0m\u001b[0;34m:\u001b[0m\u001b[0;34m\u001b[0m\u001b[0;34m\u001b[0m\u001b[0m\n",
            "\u001b[0;32m/usr/lib/python3.10/subprocess.py\u001b[0m in \u001b[0;36mrun\u001b[0;34m(input, capture_output, timeout, check, *popenargs, **kwargs)\u001b[0m\n\u001b[1;32m    525\u001b[0m         \u001b[0;32mif\u001b[0m \u001b[0mcheck\u001b[0m \u001b[0;32mand\u001b[0m \u001b[0mretcode\u001b[0m\u001b[0;34m:\u001b[0m\u001b[0;34m\u001b[0m\u001b[0;34m\u001b[0m\u001b[0m\n\u001b[0;32m--> 526\u001b[0;31m             raise CalledProcessError(retcode, process.args,\n\u001b[0m\u001b[1;32m    527\u001b[0m                                      output=stdout, stderr=stderr)\n",
            "\u001b[0;31mCalledProcessError\u001b[0m: Command '['ffmpeg', '-nostdin', '-threads', '0', '-i', 'audio_file', '-f', 's16le', '-ac', '1', '-acodec', 'pcm_s16le', '-ar', '16000', '-']' returned non-zero exit status 1.",
            "\nThe above exception was the direct cause of the following exception:\n",
            "\u001b[0;31mRuntimeError\u001b[0m                              Traceback (most recent call last)",
            "\u001b[0;32m<ipython-input-31-0e3838d861a9>\u001b[0m in \u001b[0;36m<cell line: 52>\u001b[0;34m()\u001b[0m\n\u001b[1;32m     64\u001b[0m             \u001b[0;31m# Recognize speech from the audio file\u001b[0m\u001b[0;34m\u001b[0m\u001b[0;34m\u001b[0m\u001b[0m\n\u001b[1;32m     65\u001b[0m             \u001b[0;31m# recognized_text = recognize_speech(wav_file_path)\u001b[0m\u001b[0;34m\u001b[0m\u001b[0;34m\u001b[0m\u001b[0m\n\u001b[0;32m---> 66\u001b[0;31m             \u001b[0mrecognized_text\u001b[0m \u001b[0;34m=\u001b[0m \u001b[0mrecognize_speech\u001b[0m\u001b[0;34m(\u001b[0m\u001b[0mfile_path\u001b[0m\u001b[0;34m)\u001b[0m\u001b[0;34m\u001b[0m\u001b[0;34m\u001b[0m\u001b[0m\n\u001b[0m\u001b[1;32m     67\u001b[0m             \u001b[0;31m# Load ground truth transcription\u001b[0m\u001b[0;34m\u001b[0m\u001b[0;34m\u001b[0m\u001b[0m\n\u001b[1;32m     68\u001b[0m             \u001b[0mground_truth_file\u001b[0m \u001b[0;34m=\u001b[0m \u001b[0mos\u001b[0m\u001b[0;34m.\u001b[0m\u001b[0mpath\u001b[0m\u001b[0;34m.\u001b[0m\u001b[0msplitext\u001b[0m\u001b[0;34m(\u001b[0m\u001b[0mfile_path\u001b[0m\u001b[0;34m)\u001b[0m\u001b[0;34m[\u001b[0m\u001b[0;36m0\u001b[0m\u001b[0;34m]\u001b[0m \u001b[0;34m+\u001b[0m \u001b[0;34m'.txt'\u001b[0m\u001b[0;34m\u001b[0m\u001b[0;34m\u001b[0m\u001b[0m\n",
            "\u001b[0;32m<ipython-input-31-0e3838d861a9>\u001b[0m in \u001b[0;36mrecognize_speech\u001b[0;34m(audio_file)\u001b[0m\n\u001b[1;32m     16\u001b[0m     \u001b[0;31m# with open(audio_file, 'rb') as f:\u001b[0m\u001b[0;34m\u001b[0m\u001b[0;34m\u001b[0m\u001b[0m\n\u001b[1;32m     17\u001b[0m     \u001b[0;31m#     audio_data = f.read()\u001b[0m\u001b[0;34m\u001b[0m\u001b[0;34m\u001b[0m\u001b[0m\n\u001b[0;32m---> 18\u001b[0;31m     \u001b[0mresult\u001b[0m \u001b[0;34m=\u001b[0m \u001b[0mmodel\u001b[0m\u001b[0;34m.\u001b[0m\u001b[0mtranscribe\u001b[0m\u001b[0;34m(\u001b[0m\u001b[0;34m\"audio_file\"\u001b[0m\u001b[0;34m,\u001b[0m\u001b[0mlanguage\u001b[0m\u001b[0;34m=\u001b[0m\u001b[0;34m'hi'\u001b[0m\u001b[0;34m)\u001b[0m\u001b[0;34m\u001b[0m\u001b[0;34m\u001b[0m\u001b[0m\n\u001b[0m\u001b[1;32m     19\u001b[0m     \u001b[0;32mreturn\u001b[0m \u001b[0mresult\u001b[0m\u001b[0;34m[\u001b[0m\u001b[0;34m\"text\"\u001b[0m\u001b[0;34m]\u001b[0m\u001b[0;34m\u001b[0m\u001b[0;34m\u001b[0m\u001b[0m\n\u001b[1;32m     20\u001b[0m     \u001b[0;31m# print(result[\"text\"])\u001b[0m\u001b[0;34m\u001b[0m\u001b[0;34m\u001b[0m\u001b[0m\n",
            "\u001b[0;32m/usr/local/lib/python3.10/dist-packages/whisper/transcribe.py\u001b[0m in \u001b[0;36mtranscribe\u001b[0;34m(model, audio, verbose, temperature, compression_ratio_threshold, logprob_threshold, no_speech_threshold, condition_on_previous_text, initial_prompt, word_timestamps, prepend_punctuations, append_punctuations, clip_timestamps, hallucination_silence_threshold, **decode_options)\u001b[0m\n\u001b[1;32m    131\u001b[0m \u001b[0;34m\u001b[0m\u001b[0m\n\u001b[1;32m    132\u001b[0m     \u001b[0;31m# Pad 30-seconds of silence to the input audio, for slicing\u001b[0m\u001b[0;34m\u001b[0m\u001b[0;34m\u001b[0m\u001b[0m\n\u001b[0;32m--> 133\u001b[0;31m     \u001b[0mmel\u001b[0m \u001b[0;34m=\u001b[0m \u001b[0mlog_mel_spectrogram\u001b[0m\u001b[0;34m(\u001b[0m\u001b[0maudio\u001b[0m\u001b[0;34m,\u001b[0m \u001b[0mmodel\u001b[0m\u001b[0;34m.\u001b[0m\u001b[0mdims\u001b[0m\u001b[0;34m.\u001b[0m\u001b[0mn_mels\u001b[0m\u001b[0;34m,\u001b[0m \u001b[0mpadding\u001b[0m\u001b[0;34m=\u001b[0m\u001b[0mN_SAMPLES\u001b[0m\u001b[0;34m)\u001b[0m\u001b[0;34m\u001b[0m\u001b[0;34m\u001b[0m\u001b[0m\n\u001b[0m\u001b[1;32m    134\u001b[0m     \u001b[0mcontent_frames\u001b[0m \u001b[0;34m=\u001b[0m \u001b[0mmel\u001b[0m\u001b[0;34m.\u001b[0m\u001b[0mshape\u001b[0m\u001b[0;34m[\u001b[0m\u001b[0;34m-\u001b[0m\u001b[0;36m1\u001b[0m\u001b[0;34m]\u001b[0m \u001b[0;34m-\u001b[0m \u001b[0mN_FRAMES\u001b[0m\u001b[0;34m\u001b[0m\u001b[0;34m\u001b[0m\u001b[0m\n\u001b[1;32m    135\u001b[0m     \u001b[0mcontent_duration\u001b[0m \u001b[0;34m=\u001b[0m \u001b[0mfloat\u001b[0m\u001b[0;34m(\u001b[0m\u001b[0mcontent_frames\u001b[0m \u001b[0;34m*\u001b[0m \u001b[0mHOP_LENGTH\u001b[0m \u001b[0;34m/\u001b[0m \u001b[0mSAMPLE_RATE\u001b[0m\u001b[0;34m)\u001b[0m\u001b[0;34m\u001b[0m\u001b[0;34m\u001b[0m\u001b[0m\n",
            "\u001b[0;32m/usr/local/lib/python3.10/dist-packages/whisper/audio.py\u001b[0m in \u001b[0;36mlog_mel_spectrogram\u001b[0;34m(audio, n_mels, padding, device)\u001b[0m\n\u001b[1;32m    138\u001b[0m     \u001b[0;32mif\u001b[0m \u001b[0;32mnot\u001b[0m \u001b[0mtorch\u001b[0m\u001b[0;34m.\u001b[0m\u001b[0mis_tensor\u001b[0m\u001b[0;34m(\u001b[0m\u001b[0maudio\u001b[0m\u001b[0;34m)\u001b[0m\u001b[0;34m:\u001b[0m\u001b[0;34m\u001b[0m\u001b[0;34m\u001b[0m\u001b[0m\n\u001b[1;32m    139\u001b[0m         \u001b[0;32mif\u001b[0m \u001b[0misinstance\u001b[0m\u001b[0;34m(\u001b[0m\u001b[0maudio\u001b[0m\u001b[0;34m,\u001b[0m \u001b[0mstr\u001b[0m\u001b[0;34m)\u001b[0m\u001b[0;34m:\u001b[0m\u001b[0;34m\u001b[0m\u001b[0;34m\u001b[0m\u001b[0m\n\u001b[0;32m--> 140\u001b[0;31m             \u001b[0maudio\u001b[0m \u001b[0;34m=\u001b[0m \u001b[0mload_audio\u001b[0m\u001b[0;34m(\u001b[0m\u001b[0maudio\u001b[0m\u001b[0;34m)\u001b[0m\u001b[0;34m\u001b[0m\u001b[0;34m\u001b[0m\u001b[0m\n\u001b[0m\u001b[1;32m    141\u001b[0m         \u001b[0maudio\u001b[0m \u001b[0;34m=\u001b[0m \u001b[0mtorch\u001b[0m\u001b[0;34m.\u001b[0m\u001b[0mfrom_numpy\u001b[0m\u001b[0;34m(\u001b[0m\u001b[0maudio\u001b[0m\u001b[0;34m)\u001b[0m\u001b[0;34m\u001b[0m\u001b[0;34m\u001b[0m\u001b[0m\n\u001b[1;32m    142\u001b[0m \u001b[0;34m\u001b[0m\u001b[0m\n",
            "\u001b[0;32m/usr/local/lib/python3.10/dist-packages/whisper/audio.py\u001b[0m in \u001b[0;36mload_audio\u001b[0;34m(file, sr)\u001b[0m\n\u001b[1;32m     58\u001b[0m         \u001b[0mout\u001b[0m \u001b[0;34m=\u001b[0m \u001b[0mrun\u001b[0m\u001b[0;34m(\u001b[0m\u001b[0mcmd\u001b[0m\u001b[0;34m,\u001b[0m \u001b[0mcapture_output\u001b[0m\u001b[0;34m=\u001b[0m\u001b[0;32mTrue\u001b[0m\u001b[0;34m,\u001b[0m \u001b[0mcheck\u001b[0m\u001b[0;34m=\u001b[0m\u001b[0;32mTrue\u001b[0m\u001b[0;34m)\u001b[0m\u001b[0;34m.\u001b[0m\u001b[0mstdout\u001b[0m\u001b[0;34m\u001b[0m\u001b[0;34m\u001b[0m\u001b[0m\n\u001b[1;32m     59\u001b[0m     \u001b[0;32mexcept\u001b[0m \u001b[0mCalledProcessError\u001b[0m \u001b[0;32mas\u001b[0m \u001b[0me\u001b[0m\u001b[0;34m:\u001b[0m\u001b[0;34m\u001b[0m\u001b[0;34m\u001b[0m\u001b[0m\n\u001b[0;32m---> 60\u001b[0;31m         \u001b[0;32mraise\u001b[0m \u001b[0mRuntimeError\u001b[0m\u001b[0;34m(\u001b[0m\u001b[0;34mf\"Failed to load audio: {e.stderr.decode()}\"\u001b[0m\u001b[0;34m)\u001b[0m \u001b[0;32mfrom\u001b[0m \u001b[0me\u001b[0m\u001b[0;34m\u001b[0m\u001b[0;34m\u001b[0m\u001b[0m\n\u001b[0m\u001b[1;32m     61\u001b[0m \u001b[0;34m\u001b[0m\u001b[0m\n\u001b[1;32m     62\u001b[0m     \u001b[0;32mreturn\u001b[0m \u001b[0mnp\u001b[0m\u001b[0;34m.\u001b[0m\u001b[0mfrombuffer\u001b[0m\u001b[0;34m(\u001b[0m\u001b[0mout\u001b[0m\u001b[0;34m,\u001b[0m \u001b[0mnp\u001b[0m\u001b[0;34m.\u001b[0m\u001b[0mint16\u001b[0m\u001b[0;34m)\u001b[0m\u001b[0;34m.\u001b[0m\u001b[0mflatten\u001b[0m\u001b[0;34m(\u001b[0m\u001b[0;34m)\u001b[0m\u001b[0;34m.\u001b[0m\u001b[0mastype\u001b[0m\u001b[0;34m(\u001b[0m\u001b[0mnp\u001b[0m\u001b[0;34m.\u001b[0m\u001b[0mfloat32\u001b[0m\u001b[0;34m)\u001b[0m \u001b[0;34m/\u001b[0m \u001b[0;36m32768.0\u001b[0m\u001b[0;34m\u001b[0m\u001b[0;34m\u001b[0m\u001b[0m\n",
            "\u001b[0;31mRuntimeError\u001b[0m: Failed to load audio: ffmpeg version 4.4.2-0ubuntu0.22.04.1 Copyright (c) 2000-2021 the FFmpeg developers\n  built with gcc 11 (Ubuntu 11.2.0-19ubuntu1)\n  configuration: --prefix=/usr --extra-version=0ubuntu0.22.04.1 --toolchain=hardened --libdir=/usr/lib/x86_64-linux-gnu --incdir=/usr/include/x86_64-linux-gnu --arch=amd64 --enable-gpl --disable-stripping --enable-gnutls --enable-ladspa --enable-libaom --enable-libass --enable-libbluray --enable-libbs2b --enable-libcaca --enable-libcdio --enable-libcodec2 --enable-libdav1d --enable-libflite --enable-libfontconfig --enable-libfreetype --enable-libfribidi --enable-libgme --enable-libgsm --enable-libjack --enable-libmp3lame --enable-libmysofa --enable-libopenjpeg --enable-libopenmpt --enable-libopus --enable-libpulse --enable-librabbitmq --enable-librubberband --enable-libshine --enable-libsnappy --enable-libsoxr --enable-libspeex --enable-libsrt --enable-libssh --enable-libtheora --enable-libtwolame --enable-libvidstab --enable-libvorbis --enable-libvpx --enable-libwebp --enable-libx265 --enable-libxml2 --enable-libxvid --enable-libzimg --enable-libzmq --enable-libzvbi --enable-lv2 --enable-omx --enable-openal --enable-opencl --enable-opengl --enable-sdl2 --enable-pocketsphinx --enable-librsvg --enable-libmfx --enable-libdc1394 --enable-libdrm --enable-libiec61883 --enable-chromaprint --enable-frei0r --enable-libx264 --enable-shared\n  libavutil      56. 70.100 / 56. 70.100\n  libavcodec     58.134.100 / 58.134.100\n  libavformat    58. 76.100 / 58. 76.100\n  libavdevice    58. 13.100 / 58. 13.100\n  libavfilter     7.110.100 /  7.110.100\n  libswscale      5.  9.100 /  5.  9.100\n  libswresample   3.  9.100 /  3.  9.100\n  libpostproc    55.  9.100 / 55.  9.100\naudio_file: No such file or directory\n"
          ]
        }
      ]
    }
  ]
}